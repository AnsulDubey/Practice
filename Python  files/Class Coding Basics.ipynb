{
 "cells": [
  {
   "cell_type": "raw",
   "metadata": {},
   "source": [
    "Classes Generate Multiple Instance Objects-\n",
    "\n",
    "To understand how the multiple objects idea works, you have to first understand that\n",
    "there are two kinds of objects in Python’s OOP model: class objects and instance ob-\n",
    "jects. Class objects provide default behavior and serve as factories for instance objects.\n",
    "Instance objects are the real objects your programs process—each is a namespace in\n",
    "its own right, but inherits (i.e., has automatic access to) names in the class from which\n",
    "it was created. Class objects come from statements, and instances come from calls; each\n",
    "time you call a class, you get a new instance of that class."
   ]
  },
  {
   "cell_type": "raw",
   "metadata": {},
   "source": [
    "Class Objects Provide Default Behavior-\n",
    "\n",
    "When we run a class statement, we get a class object. Here’s a rundown of the main\n",
    "properties of Python classes:\n",
    "    \n",
    "• The class statement creates a class object and assigns it a name. Just like the\n",
    "function def statement, the Python class statement is an executable statement.\n",
    "When reached and run, it generates a new class object and assigns it to the name\n",
    "in the class header. Also, like def s, class statements typically run when the files\n",
    "they are coded in are first imported.\n",
    "\n",
    "• Assignments inside class statements make class attributes. Just like in module\n",
    "files, top-level assignments within a class statement (not nested in a def ) generate\n",
    "attributes in a class object. Technically, the class statement defines a local scope\n",
    "that morphs into the attribute namespace of the class object, just like a module’s\n",
    "global scope. After running a class statement, class attributes are accessed by name\n",
    "qualification: object.name .\n",
    "    \n",
    "• Class attributes provide object state and behavior. Attributes of a class object\n",
    "record state information and behavior to be shared by all instances created from\n",
    "the class; function def statements nested inside a class generate methods, which\n",
    "process instances.    "
   ]
  },
  {
   "cell_type": "code",
   "execution_count": null,
   "metadata": {},
   "outputs": [],
   "source": []
  },
  {
   "cell_type": "raw",
   "metadata": {},
   "source": [
    "Classes inherit attributes from their superclasses.- Just as instances inherit the\n",
    "attribute names defined in their classes, classes inherit all of the attribute names\n",
    "defined in their superclasses; Python finds them automatically when they’re ac-\n",
    "cessed, if they don’t exist in the subclasses.\n",
    "\n",
    "Instances inherit attributes from all accessible classes- Each instance gets\n",
    "names from the class it’s generated from, as well as all of that class’s superclasses.\n",
    "When looking for a name, Python checks the instance, then its class, then all su-\n",
    "perclasses.\n",
    "\n",
    "Each object.attribute reference invokes a new, independent search- Python\n",
    "performs an independent search of the class tree for each attribute fetch expression.\n",
    "This includes references to instances and classes made outside class statements\n",
    "(e.g., X.attr ), as well as references to attributes of the self instance argument in a\n",
    "class’s method functions. Each self.attr expression in a method invokes a new\n",
    "search for attr in self and above.\n",
    "\n",
    "Logic changes are made by subclassing, not by changing superclasses- By\n",
    "redefining superclass names in subclasses lower in the hierarchy (class tree), sub-\n",
    "classes replace and thus customize inherited behavior."
   ]
  },
  {
   "cell_type": "code",
   "execution_count": 9,
   "metadata": {},
   "outputs": [],
   "source": [
    "class first:\n",
    "    def __init__(self,data):\n",
    "        self.data=data\n",
    "    \n",
    "    def display(self):\n",
    "        print(self.data)\n",
    "    "
   ]
  },
  {
   "cell_type": "code",
   "execution_count": 10,
   "metadata": {},
   "outputs": [],
   "source": [
    "first.y='hello'"
   ]
  },
  {
   "cell_type": "code",
   "execution_count": 11,
   "metadata": {},
   "outputs": [],
   "source": [
    "r=first(\"32\")"
   ]
  },
  {
   "cell_type": "code",
   "execution_count": 12,
   "metadata": {},
   "outputs": [
    {
     "name": "stdout",
     "output_type": "stream",
     "text": [
      "32\n"
     ]
    }
   ],
   "source": [
    "r.display()"
   ]
  },
  {
   "cell_type": "code",
   "execution_count": 13,
   "metadata": {},
   "outputs": [
    {
     "data": {
      "text/plain": [
       "'hello'"
      ]
     },
     "execution_count": 13,
     "metadata": {},
     "output_type": "execute_result"
    }
   ],
   "source": [
    "r.y"
   ]
  },
  {
   "cell_type": "code",
   "execution_count": 14,
   "metadata": {},
   "outputs": [],
   "source": [
    "r.y=98"
   ]
  },
  {
   "cell_type": "code",
   "execution_count": 15,
   "metadata": {},
   "outputs": [
    {
     "data": {
      "text/plain": [
       "'hello'"
      ]
     },
     "execution_count": 15,
     "metadata": {},
     "output_type": "execute_result"
    }
   ],
   "source": [
    "first.y"
   ]
  },
  {
   "cell_type": "code",
   "execution_count": 16,
   "metadata": {},
   "outputs": [],
   "source": [
    "r.z='mo'"
   ]
  },
  {
   "cell_type": "code",
   "execution_count": 17,
   "metadata": {},
   "outputs": [
    {
     "data": {
      "text/plain": [
       "'mo'"
      ]
     },
     "execution_count": 17,
     "metadata": {},
     "output_type": "execute_result"
    }
   ],
   "source": [
    "r.z"
   ]
  },
  {
   "cell_type": "code",
   "execution_count": 18,
   "metadata": {},
   "outputs": [
    {
     "ename": "AttributeError",
     "evalue": "type object 'first' has no attribute 'z'",
     "output_type": "error",
     "traceback": [
      "\u001b[0;31m---------------------------------------------------------------------------\u001b[0m",
      "\u001b[0;31mAttributeError\u001b[0m                            Traceback (most recent call last)",
      "\u001b[0;32m<ipython-input-18-e4d670a90bb1>\u001b[0m in \u001b[0;36m<module>\u001b[0;34m\u001b[0m\n\u001b[0;32m----> 1\u001b[0;31m \u001b[0mfirst\u001b[0m\u001b[0;34m.\u001b[0m\u001b[0mz\u001b[0m\u001b[0;34m\u001b[0m\u001b[0;34m\u001b[0m\u001b[0m\n\u001b[0m",
      "\u001b[0;31mAttributeError\u001b[0m: type object 'first' has no attribute 'z'"
     ]
    }
   ],
   "source": [
    "first.z"
   ]
  },
  {
   "cell_type": "code",
   "execution_count": 20,
   "metadata": {},
   "outputs": [
    {
     "data": {
      "text/plain": [
       "{'data': '32', 'y': 98, 'z': 'mo'}"
      ]
     },
     "execution_count": 20,
     "metadata": {},
     "output_type": "execute_result"
    }
   ],
   "source": [
    "r.__dict__"
   ]
  },
  {
   "cell_type": "code",
   "execution_count": 21,
   "metadata": {},
   "outputs": [
    {
     "data": {
      "text/plain": [
       "mappingproxy({'__module__': '__main__',\n",
       "              '__init__': <function __main__.first.__init__(self, data)>,\n",
       "              'display': <function __main__.first.display(self)>,\n",
       "              '__dict__': <attribute '__dict__' of 'first' objects>,\n",
       "              '__weakref__': <attribute '__weakref__' of 'first' objects>,\n",
       "              '__doc__': None,\n",
       "              'y': 'hello'})"
      ]
     },
     "execution_count": 21,
     "metadata": {},
     "output_type": "execute_result"
    }
   ],
   "source": [
    "first.__dict__"
   ]
  },
  {
   "cell_type": "code",
   "execution_count": 22,
   "metadata": {},
   "outputs": [],
   "source": [
    "class A:\n",
    "    ...\n",
    "    "
   ]
  },
  {
   "cell_type": "code",
   "execution_count": 23,
   "metadata": {},
   "outputs": [],
   "source": [
    "a=A()"
   ]
  },
  {
   "cell_type": "code",
   "execution_count": 24,
   "metadata": {},
   "outputs": [
    {
     "ename": "AttributeError",
     "evalue": "'A' object has no attribute 'x'",
     "output_type": "error",
     "traceback": [
      "\u001b[0;31m---------------------------------------------------------------------------\u001b[0m",
      "\u001b[0;31mAttributeError\u001b[0m                            Traceback (most recent call last)",
      "\u001b[0;32m<ipython-input-24-e27186f28a17>\u001b[0m in \u001b[0;36m<module>\u001b[0;34m\u001b[0m\n\u001b[0;32m----> 1\u001b[0;31m \u001b[0ma\u001b[0m\u001b[0;34m.\u001b[0m\u001b[0mx\u001b[0m\u001b[0;34m\u001b[0m\u001b[0;34m\u001b[0m\u001b[0m\n\u001b[0m",
      "\u001b[0;31mAttributeError\u001b[0m: 'A' object has no attribute 'x'"
     ]
    }
   ],
   "source": [
    "a.x"
   ]
  },
  {
   "cell_type": "code",
   "execution_count": 25,
   "metadata": {},
   "outputs": [],
   "source": [
    "a.x=3"
   ]
  },
  {
   "cell_type": "code",
   "execution_count": 26,
   "metadata": {},
   "outputs": [
    {
     "data": {
      "text/plain": [
       "<__main__.A at 0x7f0ba41516a0>"
      ]
     },
     "execution_count": 26,
     "metadata": {},
     "output_type": "execute_result"
    }
   ],
   "source": [
    "a"
   ]
  },
  {
   "cell_type": "code",
   "execution_count": 27,
   "metadata": {},
   "outputs": [
    {
     "data": {
      "text/plain": [
       "3"
      ]
     },
     "execution_count": 27,
     "metadata": {},
     "output_type": "execute_result"
    }
   ],
   "source": [
    "a.x"
   ]
  },
  {
   "cell_type": "code",
   "execution_count": 31,
   "metadata": {},
   "outputs": [
    {
     "data": {
      "text/plain": [
       "['u', 'r', 'k', 'a', 'h', 'c']"
      ]
     },
     "execution_count": 31,
     "metadata": {},
     "output_type": "execute_result"
    }
   ],
   "source": [
    "s='chakru'\n",
    "list(reversed(s))"
   ]
  },
  {
   "cell_type": "code",
   "execution_count": 32,
   "metadata": {},
   "outputs": [
    {
     "data": {
      "text/plain": [
       "'chakru'"
      ]
     },
     "execution_count": 32,
     "metadata": {},
     "output_type": "execute_result"
    }
   ],
   "source": [
    "s[::1]"
   ]
  },
  {
   "cell_type": "code",
   "execution_count": 33,
   "metadata": {},
   "outputs": [
    {
     "data": {
      "text/plain": [
       "'car'"
      ]
     },
     "execution_count": 33,
     "metadata": {},
     "output_type": "execute_result"
    }
   ],
   "source": [
    "s[::2]"
   ]
  },
  {
   "cell_type": "code",
   "execution_count": 34,
   "metadata": {},
   "outputs": [
    {
     "data": {
      "text/plain": [
       "'urkahc'"
      ]
     },
     "execution_count": 34,
     "metadata": {},
     "output_type": "execute_result"
    }
   ],
   "source": [
    "s[::-1]"
   ]
  },
  {
   "cell_type": "code",
   "execution_count": null,
   "metadata": {},
   "outputs": [],
   "source": []
  }
 ],
 "metadata": {
  "kernelspec": {
   "display_name": "Python 3",
   "language": "python",
   "name": "python3"
  },
  "language_info": {
   "codemirror_mode": {
    "name": "ipython",
    "version": 3
   },
   "file_extension": ".py",
   "mimetype": "text/x-python",
   "name": "python",
   "nbconvert_exporter": "python",
   "pygments_lexer": "ipython3",
   "version": "3.7.3"
  }
 },
 "nbformat": 4,
 "nbformat_minor": 2
}
