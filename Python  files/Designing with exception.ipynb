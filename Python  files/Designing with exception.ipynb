{
 "cells": [
  {
   "cell_type": "markdown",
   "metadata": {},
   "source": [
    "##### Exception Idioms\n"
   ]
  },
  {
   "cell_type": "markdown",
   "metadata": {},
   "source": [
    "\n",
    "We’ve seen the mechanics behind exceptions. Now let’s take a look at some of the other\n",
    "ways they are typically used.\n"
   ]
  },
  {
   "cell_type": "markdown",
   "metadata": {},
   "source": [
    "##### Breaking Out of Multiple Nested Loops: “go to”"
   ]
  },
  {
   "cell_type": "markdown",
   "metadata": {},
   "source": [
    "\n",
    "As mentioned at the start of this part of the book, exceptions can often be used to serve\n",
    "the same roles as other languages’ “go to” statements to implement more arbitrary\n",
    "control transfers. Exceptions, however, provide a more structured option that localizes\n",
    "the jump to a specific block of nested code.\n",
    "In this role, raise is like “go to,” and except clauses and exception names take the place\n",
    "of program labels. You can jump only out of code wrapped in a try this way, but that’s\n",
    "a crucial feature—truly arbitrary “go to” statements can make code extraordinarily\n",
    "difficult to understand and maintain.\n",
    "For example, Python’s break statement exits just the single closest enclosing loop, but\n",
    "we can always use exceptions to break out of more than one loop level if needed:"
   ]
  },
  {
   "cell_type": "code",
   "execution_count": 2,
   "metadata": {},
   "outputs": [
    {
     "name": "stdout",
     "output_type": "stream",
     "text": [
      "loop3: 0\n",
      "loop3: 1\n",
      "loop3: 2\n",
      "loop3: 3\n",
      "continuing\n"
     ]
    }
   ],
   "source": [
    "class Exitloop(Exception):\n",
    "    pass\n",
    "\n",
    "try:\n",
    "    while True:\n",
    "        while True:\n",
    "            for i in range(10):\n",
    "                if i>3:\n",
    "                    raise Exitloop\n",
    "                print('loop3: %s' %i)\n",
    "            print(\"loop2\")\n",
    "        print(\"loop1\")\n",
    "except Exitloop:\n",
    "    print('continuing')\n",
    "    \n",
    "        "
   ]
  },
  {
   "cell_type": "markdown",
   "metadata": {},
   "source": [
    "If you change the raise in this to break , you’ll get an infinite loop, because you’ll break\n",
    "only out of the most deeply nested for loop, and wind up in the second-level loop\n",
    "nesting. The code would then print “loop2” and start the for again."
   ]
  },
  {
   "cell_type": "code",
   "execution_count": null,
   "metadata": {},
   "outputs": [],
   "source": []
  },
  {
   "cell_type": "markdown",
   "metadata": {},
   "source": [
    "##### Exceptions Aren’t Always Errors"
   ]
  },
  {
   "cell_type": "markdown",
   "metadata": {},
   "source": [
    "In Python, all errors are exceptions, but not all exceptions are errors. For instance, we\n",
    "saw in Chapter 9 that file object read methods return an empty string at the end of a\n",
    "file. In contrast, the built-in input function—which we first met in Chapter 3, deployed\n",
    "in an interactive loop in Chapter 10, and learned is named raw_input in 2.X—reads a\n",
    "line of text from the standard input stream, sys.stdin , at each call and raises the built-\n",
    "in EOFError at end-of-file.\n",
    "Unlike file methods, this function does not return an empty string—an empty string\n",
    "from input means an empty line. Despite its name, though, the EOFError exception is\n",
    "just a signal in this context, not an error. Because of this behavior, unless the end-of-\n",
    "file should terminate a script, input o"
   ]
  },
  {
   "cell_type": "code",
   "execution_count": null,
   "metadata": {},
   "outputs": [],
   "source": []
  },
  {
   "cell_type": "markdown",
   "metadata": {},
   "source": [
    "##### Functions Can Signal Conditions with raise"
   ]
  },
  {
   "cell_type": "markdown",
   "metadata": {},
   "source": [
    "User-defined exceptions can also signal nonerror conditions. For instance, a search\n",
    "routine can be coded to raise an exception when a match is found instead of returning\n",
    "a status flag for the caller to interpret. In the following, the try / except / else exception\n",
    "handler does the work of an if / else return-value tester:"
   ]
  },
  {
   "cell_type": "code",
   "execution_count": null,
   "metadata": {},
   "outputs": [],
   "source": []
  },
  {
   "cell_type": "markdown",
   "metadata": {},
   "source": [
    "###### Running In-Process Tests"
   ]
  },
  {
   "cell_type": "markdown",
   "metadata": {},
   "source": [
    "Some of the coding patterns we’ve just looked at can be combined in a test-driver\n",
    "application that tests other code within the same process. The following partial code\n",
    "sketches the general model:"
   ]
  },
  {
   "cell_type": "raw",
   "metadata": {},
   "source": [
    "import sys\n",
    "log = open('testlog', 'a')\n",
    "from testapi import moreTests, runNextTest, testName\n",
    "def testdriver():\n",
    "    while moreTests():\n",
    "        try:\n",
    "            runNextTest()\n",
    "        except:\n",
    "            print('FAILED', testName(), sys.exc_info()[:2], file=log)\n",
    "        else:\n",
    "            print('PASSED', testName(), file=log)\n",
    "testdriver()"
   ]
  },
  {
   "cell_type": "code",
   "execution_count": null,
   "metadata": {},
   "outputs": [],
   "source": []
  }
 ],
 "metadata": {
  "kernelspec": {
   "display_name": "Python 3",
   "language": "python",
   "name": "python3"
  },
  "language_info": {
   "codemirror_mode": {
    "name": "ipython",
    "version": 3
   },
   "file_extension": ".py",
   "mimetype": "text/x-python",
   "name": "python",
   "nbconvert_exporter": "python",
   "pygments_lexer": "ipython3",
   "version": "3.7.3"
  }
 },
 "nbformat": 4,
 "nbformat_minor": 2
}
