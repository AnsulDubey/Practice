{
 "cells": [
  {
   "cell_type": "markdown",
   "metadata": {},
   "source": [
    "##### Built-in Exception Classes"
   ]
  },
  {
   "cell_type": "raw",
   "metadata": {},
   "source": [
    "BaseException : topmost root, printing and constructor defaults-\n",
    "    \n",
    "Exception : root of user-defined exceptions-\n",
    "    The top-level root superclass of application-related exceptions. This is an imme-\n",
    "diate subclass of BaseException and is a superclass to every other built-in exception,\n",
    "except the system exit event classes ( SystemExit , KeyboardInterrupt , and Genera\n",
    "torExit ). Nearly all user-defined classes should inherit from this class, not BaseEx\n",
    "ception . When this convention is followed, naming Exception in a try statement’s\n",
    "handler ensures that your program will catch everything but system exit events,\n",
    "which should normally be allowed to pass. In effect, Exception becomes a catchall\n",
    "in try statements and is more accurate than an empty except .\n",
    "\n",
    "ArithmeticError : root of numeric errors-\n",
    "A subclass of Exception , and the superclass of all numeric errors. Its subclasses\n",
    "identify specific numeric errors: OverflowError , ZeroDivisionError , and Floating\n",
    "PointError .\n",
    "\n",
    "LookupError : root of indexing errors\n",
    "A subclass of Exception , and the superclass category for indexing errors for both\n",
    "sequences and mappings— IndexError and KeyError —as well as some Unicode\n",
    "lookup errors."
   ]
  },
  {
   "cell_type": "code",
   "execution_count": 10,
   "metadata": {},
   "outputs": [
    {
     "name": "stdout",
     "output_type": "stream",
     "text": [
      "error occurred\n"
     ]
    }
   ],
   "source": [
    "class Bad(Exception):\n",
    "    def __str__(self):\n",
    "        return \"error occurred\"\n",
    "\n",
    "try:\n",
    "    raise Bad('oops! you faced an  error')\n",
    "except Bad as b:\n",
    "    print(b)\n",
    "    "
   ]
  },
  {
   "cell_type": "code",
   "execution_count": 11,
   "metadata": {},
   "outputs": [
    {
     "name": "stdout",
     "output_type": "stream",
     "text": [
      "oops! you faced an  error\n"
     ]
    }
   ],
   "source": [
    "class Bad(Exception):\n",
    "    def __repr__(self):\n",
    "        return \"error occurred\"\n",
    "\n",
    "try:\n",
    "    raise Bad('oops! you faced an  error')\n",
    "except Bad as b:\n",
    "    print(b)"
   ]
  },
  {
   "cell_type": "raw",
   "metadata": {},
   "source": [
    "A subtle point here: you generally must redefine __str__ for exception\n",
    "display purposes, because the built-in exception superclasses already\n",
    "have a __str__ method, and __str__ is preferred to __repr__ in some\n",
    "contexts—including error message displays. If you define a __repr__ ,\n",
    "printing will happily call the built-in superclass’s __str__ instead!"
   ]
  },
  {
   "cell_type": "code",
   "execution_count": 16,
   "metadata": {},
   "outputs": [],
   "source": [
    "class A(Exception):\n",
    "    def __init__(self,b,file):\n",
    "        self.b=b; self.file=file\n",
    "    def __str__(self):\n",
    "        return 'This exception contians {} , {}'.format(self.b,self.file)"
   ]
  },
  {
   "cell_type": "code",
   "execution_count": 17,
   "metadata": {},
   "outputs": [
    {
     "name": "stdout",
     "output_type": "stream",
     "text": [
      "This exception contians 23 , file.txt\n"
     ]
    }
   ],
   "source": [
    "def exp():\n",
    "    raise A(23,'file.txt')\n",
    "\n",
    "try:\n",
    "    exp()\n",
    "except A as a:\n",
    "    print(a)"
   ]
  },
  {
   "cell_type": "code",
   "execution_count": null,
   "metadata": {},
   "outputs": [],
   "source": []
  }
 ],
 "metadata": {
  "kernelspec": {
   "display_name": "Python 3",
   "language": "python",
   "name": "python3"
  },
  "language_info": {
   "codemirror_mode": {
    "name": "ipython",
    "version": 3
   },
   "file_extension": ".py",
   "mimetype": "text/x-python",
   "name": "python",
   "nbconvert_exporter": "python",
   "pygments_lexer": "ipython3",
   "version": "3.7.3"
  }
 },
 "nbformat": 4,
 "nbformat_minor": 2
}
