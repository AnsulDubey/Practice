{
 "cells": [
  {
   "cell_type": "raw",
   "metadata": {},
   "source": [
    "• The __getattr__ and __setattr__ methods, for routing undefined attribute fetches\n",
    "and all attribute assignments to generic handler methods.\n",
    "• The __getattribute__ method, for routing all attribute fetches to a generic handler\n",
    "method.\n",
    "• The property built-in, for routing specific attribute access to get and set handler\n",
    "functions.\n",
    "\n",
    "• The descriptor protocol, for routing specific attribute accesses to instances of classes\n",
    "with arbitrary get and set handler methods, and the basis for other tools such as\n",
    "properties and slots."
   ]
  },
  {
   "cell_type": "markdown",
   "metadata": {},
   "source": [
    "##### Properties"
   ]
  },
  {
   "cell_type": "markdown",
   "metadata": {},
   "source": [
    "The property protocol allows us to route a specific attribute’s get, set, and delete op-\n",
    "erations to functions or methods we provide, enabling us to insert code to be run au-\n",
    "tomatically on attribute access, intercept attribute deletions, and provide documenta-\n",
    "tion for the attributes if desired.\n",
    "Properties are created with the property built-in and are assigned to class attributes,\n",
    "just like method functions. Accordingly, they are inherited by subclasses and instances,\n",
    "like any other class attributes. Their access-interception functions are provided with\n",
    "the self instance argument, which grants access to state information and class at-\n",
    "tributes available on the subject instance.\n",
    "A property manages a single, specific attribute; although it can’t catch all attribute\n",
    "accesses generically, it allows us to control both fetch and assignment accesses and\n",
    "enables us to change an attribute from simple data to a computation freely, without\n",
    "breaking existing code. As we’ll see, properties are strongly related to descriptors; in\n",
    "fact, they are essentially a restricted form of them."
   ]
  },
  {
   "cell_type": "raw",
   "metadata": {},
   "source": [
    "The Basics\n",
    "A property is created by assigning the result of a built-in function to a class attribute:\n",
    "attribute = property(fget, fset, fdel, doc)\n",
    "None of this built-in’s arguments are required, and all default to None if not passed. For\n",
    "the first three, this None means that the corresponding operation is not supported, and\n",
    "attempting it will raise an AttributeError exception automatically.\n",
    "When these arguments are used, we pass fget a function for intercepting attribute\n",
    "fetches, fset a function for assignments, and fdel a function for attribute deletions.\n",
    "Technically, all three of these arguments accept any callable, including a class’s method,\n",
    "having a first argument to receive the instance being qualified. When later invoked, the\n",
    "fget function returns the computed attribute value, fset and fdel return nothing\n",
    "(really, None ), and all three may raise exceptions to reject access requests.\n",
    "The doc argument receives a documentation string for the attribute, if desired; other-\n",
    "wise, the property copies the docstring of the fget function, which as usual defaults to\n",
    "None .\n",
    "This built-in property call returns a property object, which we assign to the name of\n",
    "the attribute to be managed in the class scope, where it will be inherited by every in-\n",
    "stance."
   ]
  },
  {
   "cell_type": "code",
   "execution_count": 1,
   "metadata": {},
   "outputs": [],
   "source": [
    "class A:\n",
    "    def __init__(self,name):\n",
    "        self.name=name\n",
    "    def setName(self):\n",
    "        self.name=name\n",
    "    def getName(self):\n",
    "        return self.name\n",
    "    "
   ]
  },
  {
   "cell_type": "code",
   "execution_count": 2,
   "metadata": {},
   "outputs": [],
   "source": [
    "a=A('Chakru')"
   ]
  },
  {
   "cell_type": "code",
   "execution_count": 3,
   "metadata": {},
   "outputs": [
    {
     "data": {
      "text/plain": [
       "<__main__.A at 0x7fe874d8ff28>"
      ]
     },
     "execution_count": 3,
     "metadata": {},
     "output_type": "execute_result"
    }
   ],
   "source": [
    "a"
   ]
  },
  {
   "cell_type": "code",
   "execution_count": 4,
   "metadata": {},
   "outputs": [
    {
     "data": {
      "text/plain": [
       "<bound method A.getName of <__main__.A object at 0x7fe874d8ff28>>"
      ]
     },
     "execution_count": 4,
     "metadata": {},
     "output_type": "execute_result"
    }
   ],
   "source": [
    "a.getName"
   ]
  },
  {
   "cell_type": "code",
   "execution_count": 5,
   "metadata": {},
   "outputs": [
    {
     "data": {
      "text/plain": [
       "'Chakru'"
      ]
     },
     "execution_count": 5,
     "metadata": {},
     "output_type": "execute_result"
    }
   ],
   "source": [
    "a.getName()"
   ]
  },
  {
   "cell_type": "code",
   "execution_count": 7,
   "metadata": {},
   "outputs": [],
   "source": [
    "class Employee:\n",
    "    def __init__(self,name):\n",
    "        self.name=name\n",
    "    def setName(self):\n",
    "        self.name=name\n",
    "    def getName(self):\n",
    "        return self.name\n",
    "    name=property(setName,getName)"
   ]
  },
  {
   "cell_type": "code",
   "execution_count": 8,
   "metadata": {},
   "outputs": [
    {
     "ename": "TypeError",
     "evalue": "getName() takes 1 positional argument but 2 were given",
     "output_type": "error",
     "traceback": [
      "\u001b[0;31m---------------------------------------------------------------------------\u001b[0m",
      "\u001b[0;31mTypeError\u001b[0m                                 Traceback (most recent call last)",
      "\u001b[0;32m<ipython-input-8-91d933fa8a2d>\u001b[0m in \u001b[0;36m<module>\u001b[0;34m\u001b[0m\n\u001b[0;32m----> 1\u001b[0;31m \u001b[0mramsey\u001b[0m\u001b[0;34m=\u001b[0m\u001b[0mEmployee\u001b[0m\u001b[0;34m(\u001b[0m\u001b[0;34m'Ramsey'\u001b[0m\u001b[0;34m)\u001b[0m\u001b[0;34m\u001b[0m\u001b[0;34m\u001b[0m\u001b[0m\n\u001b[0m",
      "\u001b[0;32m<ipython-input-7-a11a3b61e7c6>\u001b[0m in \u001b[0;36m__init__\u001b[0;34m(self, name)\u001b[0m\n\u001b[1;32m      1\u001b[0m \u001b[0;32mclass\u001b[0m \u001b[0mEmployee\u001b[0m\u001b[0;34m:\u001b[0m\u001b[0;34m\u001b[0m\u001b[0;34m\u001b[0m\u001b[0m\n\u001b[1;32m      2\u001b[0m     \u001b[0;32mdef\u001b[0m \u001b[0m__init__\u001b[0m\u001b[0;34m(\u001b[0m\u001b[0mself\u001b[0m\u001b[0;34m,\u001b[0m\u001b[0mname\u001b[0m\u001b[0;34m)\u001b[0m\u001b[0;34m:\u001b[0m\u001b[0;34m\u001b[0m\u001b[0;34m\u001b[0m\u001b[0m\n\u001b[0;32m----> 3\u001b[0;31m         \u001b[0mself\u001b[0m\u001b[0;34m.\u001b[0m\u001b[0mname\u001b[0m\u001b[0;34m=\u001b[0m\u001b[0mname\u001b[0m\u001b[0;34m\u001b[0m\u001b[0;34m\u001b[0m\u001b[0m\n\u001b[0m\u001b[1;32m      4\u001b[0m     \u001b[0;32mdef\u001b[0m \u001b[0msetName\u001b[0m\u001b[0;34m(\u001b[0m\u001b[0mself\u001b[0m\u001b[0;34m)\u001b[0m\u001b[0;34m:\u001b[0m\u001b[0;34m\u001b[0m\u001b[0;34m\u001b[0m\u001b[0m\n\u001b[1;32m      5\u001b[0m         \u001b[0mself\u001b[0m\u001b[0;34m.\u001b[0m\u001b[0mname\u001b[0m\u001b[0;34m=\u001b[0m\u001b[0mname\u001b[0m\u001b[0;34m\u001b[0m\u001b[0;34m\u001b[0m\u001b[0m\n",
      "\u001b[0;31mTypeError\u001b[0m: getName() takes 1 positional argument but 2 were given"
     ]
    }
   ],
   "source": [
    "ramsey=Employee('Ramsey')"
   ]
  },
  {
   "cell_type": "code",
   "execution_count": null,
   "metadata": {},
   "outputs": [],
   "source": []
  }
 ],
 "metadata": {
  "kernelspec": {
   "display_name": "Python 3",
   "language": "python",
   "name": "python3"
  },
  "language_info": {
   "codemirror_mode": {
    "name": "ipython",
    "version": 3
   },
   "file_extension": ".py",
   "mimetype": "text/x-python",
   "name": "python",
   "nbconvert_exporter": "python",
   "pygments_lexer": "ipython3",
   "version": "3.7.3"
  }
 },
 "nbformat": 4,
 "nbformat_minor": 2
}
