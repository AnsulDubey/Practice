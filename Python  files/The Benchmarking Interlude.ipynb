{
 "cells": [
  {
   "cell_type": "markdown",
   "metadata": {},
   "source": [
    "#### Timing Iteration Alternatives"
   ]
  },
  {
   "cell_type": "raw",
   "metadata": {},
   "source": [
    "Timing Module: Homegrown\n",
    "    \n",
    "Luckily, Python makes it easy to time code. For example, to get the total time taken to\n",
    "run multiple calls to a function with arbitrary positional arguments, the following first-\n",
    "cut function might suffice:"
   ]
  },
  {
   "cell_type": "code",
   "execution_count": 5,
   "metadata": {},
   "outputs": [
    {
     "name": "stderr",
     "output_type": "stream",
     "text": [
      "/home/icpl13698/anaconda3/lib/python3.7/site-packages/ipykernel_launcher.py:3: DeprecationWarning: time.clock has been deprecated in Python 3.3 and will be removed from Python 3.8: use time.perf_counter or time.process_time instead\n",
      "  This is separate from the ipykernel package so we can avoid doing imports until\n",
      "/home/icpl13698/anaconda3/lib/python3.7/site-packages/ipykernel_launcher.py:6: DeprecationWarning: time.clock has been deprecated in Python 3.3 and will be removed from Python 3.8: use time.perf_counter or time.process_time instead\n",
      "  \n"
     ]
    },
    {
     "data": {
      "text/plain": [
       "0.0012309999999999821"
      ]
     },
     "execution_count": 5,
     "metadata": {},
     "output_type": "execute_result"
    }
   ],
   "source": [
    "import time\n",
    "def timer(func, *args):\n",
    "    start = time.clock()\n",
    "    for i in range(1000):\n",
    "        func(*args)\n",
    "    return time.clock() - start\n",
    "timer(pow, 2, 1000)"
   ]
  },
  {
   "cell_type": "code",
   "execution_count": null,
   "metadata": {},
   "outputs": [],
   "source": []
  },
  {
   "cell_type": "markdown",
   "metadata": {},
   "source": [
    "### New Timer Calls in 3.3"
   ]
  },
  {
   "cell_type": "raw",
   "metadata": {},
   "source": [
    "• time.perf_counter() returns the value in fractional seconds of a performance\n",
    "counter, defined as a clock with the highest available resolution to measure a short\n",
    "duration. It includes time elapsed during sleep states and is system-wide.\n",
    "• time.process_time() returns the value in fractional seconds of the sum of the sys-\n",
    "tem and user CPU time of the current process. It does not include time elapsed\n",
    "during sleep, and is process-wide by definition."
   ]
  },
  {
   "cell_type": "markdown",
   "metadata": {},
   "source": [
    "list comprehensions were nearly twice as fast as equivalent for loop\n",
    "statements, and map was slightly quicker than list comprehensions when mapping a\n",
    "function such as the abs (absolute value) built-in this way"
   ]
  },
  {
   "cell_type": "markdown",
   "metadata": {},
   "source": [
    "\n",
    "On PyPy alone, list comprehensions beat map in this test, but the fact that all of PyPy’s\n",
    "results are so much quicker today seems the larger point here. On CPython, map is still\n",
    "quickest so far."
   ]
  },
  {
   "cell_type": "code",
   "execution_count": null,
   "metadata": {},
   "outputs": [],
   "source": []
  },
  {
   "cell_type": "markdown",
   "metadata": {},
   "source": [
    "#### Timing Iterations and Pythons with timeit"
   ]
  },
  {
   "cell_type": "markdown",
   "metadata": {},
   "source": [
    "The preceding section used homegrown timing functions to compare code speed. As\n",
    "mentioned there, the standard library also ships with a module named timeit that can\n",
    "be used in similar ways, but offers added flexibility and may better insulate clients from\n",
    "some platform differences."
   ]
  },
  {
   "cell_type": "raw",
   "metadata": {},
   "source": [
    "Interactive usage and API calls\n",
    "\n",
    "For example, the timeit module’s repeat call returns a list giving the total time taken\n",
    "to run a test a number of times, for each of repeat runs—the min of this list yields the\n",
    "best time among the runs, and helps filter out system load fluctuations that can other-\n",
    "wise skew timing results artificially high."
   ]
  },
  {
   "cell_type": "code",
   "execution_count": 6,
   "metadata": {},
   "outputs": [],
   "source": [
    "import timeit"
   ]
  },
  {
   "cell_type": "code",
   "execution_count": 12,
   "metadata": {},
   "outputs": [
    {
     "data": {
      "text/plain": [
       "0.22990375899826176"
      ]
     },
     "execution_count": 12,
     "metadata": {},
     "output_type": "execute_result"
    }
   ],
   "source": [
    "timeit.timeit(stmt='[x ** 2 for x in range(1000)]', number=1000)     # Total time\n",
    "                                           "
   ]
  },
  {
   "cell_type": "markdown",
   "metadata": {},
   "source": [
    "### Function gotchas"
   ]
  },
  {
   "cell_type": "markdown",
   "metadata": {},
   "source": [
    "As you know, Python classifies names assigned in a function as locals by default; they\n",
    "live in the function’s scope and exist only while the function is running. What you may\n",
    "not realize is that Python detects locals statically, when it compiles the def ’s code, rather\n",
    "than by noticing assignments as they happen at runtime. This leads to one of the most\n",
    "common oddities posted on the Python newsgroup by beginners.\n",
    "Normally, a name that isn’t assigned in a function is looked up in the enclosing module:"
   ]
  },
  {
   "cell_type": "code",
   "execution_count": 13,
   "metadata": {},
   "outputs": [],
   "source": [
    "x=99\n",
    "def select():                 # X used but not assigned\n",
    "    print(x)                  # X found in global scope\n",
    "    "
   ]
  },
  {
   "cell_type": "code",
   "execution_count": 14,
   "metadata": {},
   "outputs": [
    {
     "name": "stdout",
     "output_type": "stream",
     "text": [
      "99\n"
     ]
    }
   ],
   "source": [
    "select()"
   ]
  },
  {
   "cell_type": "raw",
   "metadata": {},
   "source": [
    "Here, the X in the function resolves to the X in the module. But watch what happens if\n",
    "you add an assignment to X after the reference:"
   ]
  },
  {
   "cell_type": "code",
   "execution_count": 18,
   "metadata": {},
   "outputs": [],
   "source": [
    "x=90\n",
    "def select():                 \n",
    "    print(x)\n",
    "    x=88"
   ]
  },
  {
   "cell_type": "code",
   "execution_count": 19,
   "metadata": {},
   "outputs": [
    {
     "ename": "UnboundLocalError",
     "evalue": "local variable 'x' referenced before assignment",
     "output_type": "error",
     "traceback": [
      "\u001b[0;31m---------------------------------------------------------------------------\u001b[0m",
      "\u001b[0;31mUnboundLocalError\u001b[0m                         Traceback (most recent call last)",
      "\u001b[0;32m<ipython-input-19-902d0dc6a583>\u001b[0m in \u001b[0;36m<module>\u001b[0;34m\u001b[0m\n\u001b[0;32m----> 1\u001b[0;31m \u001b[0mselect\u001b[0m\u001b[0;34m(\u001b[0m\u001b[0;34m)\u001b[0m\u001b[0;34m\u001b[0m\u001b[0;34m\u001b[0m\u001b[0m\n\u001b[0m",
      "\u001b[0;32m<ipython-input-18-7510f81d3995>\u001b[0m in \u001b[0;36mselect\u001b[0;34m()\u001b[0m\n\u001b[1;32m      1\u001b[0m \u001b[0mx\u001b[0m\u001b[0;34m=\u001b[0m\u001b[0;36m90\u001b[0m\u001b[0;34m\u001b[0m\u001b[0;34m\u001b[0m\u001b[0m\n\u001b[1;32m      2\u001b[0m \u001b[0;32mdef\u001b[0m \u001b[0mselect\u001b[0m\u001b[0;34m(\u001b[0m\u001b[0;34m)\u001b[0m\u001b[0;34m:\u001b[0m\u001b[0;34m\u001b[0m\u001b[0;34m\u001b[0m\u001b[0m\n\u001b[0;32m----> 3\u001b[0;31m     \u001b[0mprint\u001b[0m\u001b[0;34m(\u001b[0m\u001b[0mx\u001b[0m\u001b[0;34m)\u001b[0m\u001b[0;34m\u001b[0m\u001b[0;34m\u001b[0m\u001b[0m\n\u001b[0m\u001b[1;32m      4\u001b[0m     \u001b[0mx\u001b[0m\u001b[0;34m=\u001b[0m\u001b[0;36m88\u001b[0m\u001b[0;34m\u001b[0m\u001b[0;34m\u001b[0m\u001b[0m\n",
      "\u001b[0;31mUnboundLocalError\u001b[0m: local variable 'x' referenced before assignment"
     ]
    }
   ],
   "source": [
    "select()"
   ]
  },
  {
   "cell_type": "markdown",
   "metadata": {},
   "source": [
    "You get the name usage error shown here, but the reason is subtle. Python reads and\n",
    "compiles this code when it’s typed interactively or imported from a module. While\n",
    "compiling, Python sees the assignment to X and decides that X will be a local name\n",
    "everywhere in the function. But when the function is actually run, because the assign-\n",
    "ment hasn’t yet happened when the print executes, Python says you’re using an un-\n",
    "defined name. According to its name rules, it should say this; the local X is used before\n",
    "being assigned. In fact, any assignment in a function body makes a name local. Imports,\n",
    "= , nested def s, nested classes, and so on are all susceptible to this behavior.\n",
    "The problem occurs because assigned names are treated as locals everywhere in a func-\n",
    "tion, not just after the statements where they’re assigned. Really, the previous example\n",
    "is ambiguous: was the intention to print the global X and create a local X , or is this a\n",
    "real programming error? Because Python treats X as a local everywhere, it’s seen as an\n",
    "error; if you mean to print the global X , you need to declare it in a global statement:"
   ]
  },
  {
   "cell_type": "code",
   "execution_count": 28,
   "metadata": {},
   "outputs": [],
   "source": [
    "def select():\n",
    "    global x                      # Force X to be global (everywhere)\n",
    "    print(x)\n",
    "    x = 88"
   ]
  },
  {
   "cell_type": "code",
   "execution_count": 29,
   "metadata": {},
   "outputs": [
    {
     "name": "stdout",
     "output_type": "stream",
     "text": [
      "90\n"
     ]
    }
   ],
   "source": [
    "select()"
   ]
  },
  {
   "cell_type": "markdown",
   "metadata": {},
   "source": [
    "Remember, though, that this means the assignment also changes the global X , not a\n",
    "local X . Within a function, you can’t use both local and global versions of the same\n",
    "simple name. If you really meant to print the global and then set a local of the same\n",
    "name, you’d need to import the enclosing module and use module attribute notation\n",
    "to get to the global version"
   ]
  },
  {
   "cell_type": "code",
   "execution_count": 32,
   "metadata": {},
   "outputs": [],
   "source": [
    "x=90\n",
    "def select():\n",
    "    import __main__                        # Import enclosing module\n",
    "    print(__main__.x)                      # Qualify to get to global version of name\n",
    "    x = 88                              # Unqualified X classified as local\n",
    "    print(x)                           # Prints local version of name"
   ]
  },
  {
   "cell_type": "code",
   "execution_count": 33,
   "metadata": {},
   "outputs": [
    {
     "name": "stdout",
     "output_type": "stream",
     "text": [
      "90\n",
      "88\n"
     ]
    }
   ],
   "source": [
    "select()"
   ]
  },
  {
   "cell_type": "markdown",
   "metadata": {},
   "source": [
    "Qualification (the .X part) fetches a value from a namespace object. The interactive\n",
    "namespace is a module called __main__ , so __main__.X reaches the global version of X .\n",
    "If that isn’t clear, check out Chapter 17."
   ]
  },
  {
   "cell_type": "markdown",
   "metadata": {},
   "source": []
  },
  {
   "cell_type": "markdown",
   "metadata": {},
   "source": [
    "##### Defaults and Mutable Objects"
   ]
  },
  {
   "cell_type": "markdown",
   "metadata": {},
   "source": [
    "As noted briefly in Chapter 17 and Chapter 18, mutable values for default arguments\n",
    "can retain state between calls, though this is often unexpected. In general, default ar-\n",
    "gument values are evaluated and saved once when a def statement is run, not each time\n",
    "the resulting function is later called. Internally, Python saves one object per default\n",
    "argument attached to the function itself.\n",
    "That’s usually what you want—because defaults are evaluated at def time, it lets you\n",
    "save values from the enclosing scope, if needed (functions defined within loops by\n",
    "factories may even depend on this behavior—see ahead). But because a default retains\n",
    "an object between calls, you have to be careful about changing mutable defaults. For\n",
    "instance, the following function uses an empty list as a default value, and then changes\n",
    "it in place each time the function is called:"
   ]
  },
  {
   "cell_type": "code",
   "execution_count": 34,
   "metadata": {},
   "outputs": [],
   "source": [
    "def saver(x=[]):                          # Saves away a list object\n",
    "    x.append(1)                            # Changes same object each time!\n",
    "    print(x)"
   ]
  },
  {
   "cell_type": "code",
   "execution_count": 35,
   "metadata": {},
   "outputs": [
    {
     "name": "stdout",
     "output_type": "stream",
     "text": [
      "[2, 1]\n"
     ]
    }
   ],
   "source": [
    "saver([2])                               # Default not used"
   ]
  },
  {
   "cell_type": "code",
   "execution_count": 36,
   "metadata": {},
   "outputs": [
    {
     "name": "stdout",
     "output_type": "stream",
     "text": [
      "[3, 1]\n"
     ]
    }
   ],
   "source": [
    "saver([3])                                # Default not used"
   ]
  },
  {
   "cell_type": "code",
   "execution_count": 37,
   "metadata": {},
   "outputs": [
    {
     "name": "stdout",
     "output_type": "stream",
     "text": [
      "[1]\n"
     ]
    }
   ],
   "source": [
    "saver()                                # Default used"
   ]
  },
  {
   "cell_type": "code",
   "execution_count": 38,
   "metadata": {},
   "outputs": [
    {
     "name": "stdout",
     "output_type": "stream",
     "text": [
      "[1, 1]\n"
     ]
    }
   ],
   "source": [
    "saver()"
   ]
  },
  {
   "cell_type": "code",
   "execution_count": 39,
   "metadata": {},
   "outputs": [
    {
     "name": "stdout",
     "output_type": "stream",
     "text": [
      "[1, 1, 1]\n"
     ]
    }
   ],
   "source": [
    "saver()"
   ]
  },
  {
   "cell_type": "markdown",
   "metadata": {},
   "source": [
    "If that’s not the behavior you want, simply make a copy of the default at the start of\n",
    "the function body, or move the default value expression into the function body. As long\n",
    "as the value resides in code that’s actually executed each time the function runs, you’ll\n",
    "get a new object each time through:"
   ]
  },
  {
   "cell_type": "code",
   "execution_count": 41,
   "metadata": {},
   "outputs": [],
   "source": [
    "def saver(x=None):\n",
    "    if x is None:                       # No argument passed?\n",
    "        x = []                          # Run code to make a new list each time\n",
    "    x.append(1)                         # Changes new list object\n",
    "    print(x)"
   ]
  },
  {
   "cell_type": "code",
   "execution_count": 42,
   "metadata": {},
   "outputs": [
    {
     "name": "stdout",
     "output_type": "stream",
     "text": [
      "[2, 1]\n"
     ]
    }
   ],
   "source": [
    "saver([2])"
   ]
  },
  {
   "cell_type": "code",
   "execution_count": 43,
   "metadata": {},
   "outputs": [
    {
     "name": "stdout",
     "output_type": "stream",
     "text": [
      "[1]\n"
     ]
    }
   ],
   "source": [
    "saver()                               # Doesn't grow here"
   ]
  },
  {
   "cell_type": "code",
   "execution_count": 44,
   "metadata": {},
   "outputs": [
    {
     "name": "stdout",
     "output_type": "stream",
     "text": [
      "[1]\n"
     ]
    }
   ],
   "source": [
    "saver()"
   ]
  },
  {
   "cell_type": "markdown",
   "metadata": {},
   "source": [
    "By the way, the if statement in this example could almost be replaced by the assignment\n",
    "x = x or [] , which takes advantage of the fact that Python’s or returns one of its\n",
    "operand objects: if no argument was passed, x would default to None , so the or would\n",
    "return the new empty list on the right.\n",
    "However, this isn’t exactly the same. If an empty list were passed in, the or expression\n",
    "would cause the function to extend and return a newly created list, rather than ex-\n",
    "tending and returning the passed-in list like the if version. (The expression becomes\n",
    "[] or [] , which evaluates to the new empty list on the right; see the section “Truth\n",
    "Tests” if you don’t recall why.) Real program requirements may call for either behavior."
   ]
  },
  {
   "cell_type": "markdown",
   "metadata": {},
   "source": [
    "Today, another way to achieve the value retention effect of mutable defaults in a pos-\n",
    "sibly less confusing way is to use the function attributes we discussed in Chapter 19:"
   ]
  },
  {
   "cell_type": "code",
   "execution_count": 45,
   "metadata": {},
   "outputs": [],
   "source": [
    "def saver():\n",
    "    saver.x.append(1)\n",
    "    print(saver.x)"
   ]
  },
  {
   "cell_type": "code",
   "execution_count": 46,
   "metadata": {},
   "outputs": [],
   "source": [
    "saver.x=[]"
   ]
  },
  {
   "cell_type": "code",
   "execution_count": 47,
   "metadata": {},
   "outputs": [
    {
     "name": "stdout",
     "output_type": "stream",
     "text": [
      "[1]\n"
     ]
    }
   ],
   "source": [
    "saver()"
   ]
  },
  {
   "cell_type": "code",
   "execution_count": 48,
   "metadata": {},
   "outputs": [],
   "source": [
    "saver.x=[3,4]"
   ]
  },
  {
   "cell_type": "code",
   "execution_count": 49,
   "metadata": {},
   "outputs": [
    {
     "name": "stdout",
     "output_type": "stream",
     "text": [
      "[3, 4, 1]\n"
     ]
    }
   ],
   "source": [
    "saver()"
   ]
  },
  {
   "cell_type": "code",
   "execution_count": 50,
   "metadata": {},
   "outputs": [
    {
     "name": "stdout",
     "output_type": "stream",
     "text": [
      "[3, 4, 1, 1]\n"
     ]
    }
   ],
   "source": [
    "saver()"
   ]
  },
  {
   "cell_type": "code",
   "execution_count": 51,
   "metadata": {},
   "outputs": [
    {
     "name": "stdout",
     "output_type": "stream",
     "text": [
      "[3, 4, 1, 1, 1]\n"
     ]
    }
   ],
   "source": [
    "saver()"
   ]
  },
  {
   "cell_type": "code",
   "execution_count": 52,
   "metadata": {},
   "outputs": [
    {
     "data": {
      "text/plain": [
       "[3, 4, 1, 1, 1]"
      ]
     },
     "execution_count": 52,
     "metadata": {},
     "output_type": "execute_result"
    }
   ],
   "source": [
    "saver.x"
   ]
  },
  {
   "cell_type": "markdown",
   "metadata": {},
   "source": [
    "The function name is global to the function itself, but it need not be declared because\n",
    "it isn’t changed directly within the function. This isn’t used in exactly the same way,\n",
    "but when coded like this, the attachment of an object to the function is much more\n",
    "explicit (and arguably less magical)."
   ]
  },
  {
   "cell_type": "code",
   "execution_count": null,
   "metadata": {},
   "outputs": [],
   "source": []
  },
  {
   "cell_type": "markdown",
   "metadata": {},
   "source": [
    "Functions such as this without a return are Python’s equivalent of what are called\n",
    "“procedures” in some languages. They’re usually invoked as statements, and the None\n",
    "results are ignored, as they do their business without computing a useful result."
   ]
  },
  {
   "cell_type": "code",
   "execution_count": null,
   "metadata": {},
   "outputs": [],
   "source": []
  }
 ],
 "metadata": {
  "kernelspec": {
   "display_name": "Python 3",
   "language": "python",
   "name": "python3"
  },
  "language_info": {
   "codemirror_mode": {
    "name": "ipython",
    "version": 3
   },
   "file_extension": ".py",
   "mimetype": "text/x-python",
   "name": "python",
   "nbconvert_exporter": "python",
   "pygments_lexer": "ipython3",
   "version": "3.7.3"
  }
 },
 "nbformat": 4,
 "nbformat_minor": 2
}
