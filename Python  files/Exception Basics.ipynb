{
 "cells": [
  {
   "cell_type": "raw",
   "metadata": {},
   "source": [
    "try / except\n",
    "Catch and recover from exceptions raised by Python, or by you.\n",
    "\n",
    "try / finally\n",
    "Perform cleanup actions, whether exceptions occur or not.\n",
    "\n",
    "raise\n",
    "Trigger an exception manually in your code.\n",
    "\n",
    "assert\n",
    "Conditionally trigger an exception in your code.\n",
    "\n",
    "with / as\n",
    "Implement context managers in Python 2.6, 3.0, and later (optional in 2.5)."
   ]
  },
  {
   "cell_type": "code",
   "execution_count": 1,
   "metadata": {},
   "outputs": [
    {
     "name": "stdout",
     "output_type": "stream",
     "text": [
      "exception raised\n"
     ]
    }
   ],
   "source": [
    "try:\n",
    "    raise IndexError\n",
    "except IndexError:\n",
    "    print('exception raised')"
   ]
  },
  {
   "cell_type": "markdown",
   "metadata": {},
   "source": [
    "Raising Exceptions\n",
    "So far, we’ve been letting Python raise exceptions for us by making mistakes (on pur-\n",
    "pose this time!), but our scripts can raise exceptions too—that is, exceptions can be\n",
    "raised by Python or by your program, and can be caught or not. To trigger an exception"
   ]
  },
  {
   "cell_type": "markdown",
   "metadata": {},
   "source": [
    "manually, simply run a raise statement. User-triggered exceptions are caught the same\n",
    "way as those Python raises. The following may not be the most useful Python code ever\n",
    "penned, but it makes the point—raising the built-in IndexError exception:"
   ]
  },
  {
   "cell_type": "code",
   "execution_count": null,
   "metadata": {},
   "outputs": [],
   "source": []
  },
  {
   "cell_type": "markdown",
   "metadata": {},
   "source": [
    "As usual, if they’re not caught, user-triggered exceptions are propagated up to the top-\n",
    "level default exception handler and terminate the program with a standard error mes-\n",
    "sage:"
   ]
  },
  {
   "cell_type": "code",
   "execution_count": 3,
   "metadata": {},
   "outputs": [
    {
     "ename": "IndexError",
     "evalue": "",
     "output_type": "error",
     "traceback": [
      "\u001b[0;31m---------------------------------------------------------------------------\u001b[0m",
      "\u001b[0;31mIndexError\u001b[0m                                Traceback (most recent call last)",
      "\u001b[0;32m<ipython-input-3-55a00e7db5b5>\u001b[0m in \u001b[0;36m<module>\u001b[0;34m\u001b[0m\n\u001b[0;32m----> 1\u001b[0;31m \u001b[0;32mraise\u001b[0m \u001b[0mIndexError\u001b[0m\u001b[0;34m\u001b[0m\u001b[0;34m\u001b[0m\u001b[0m\n\u001b[0m",
      "\u001b[0;31mIndexError\u001b[0m: "
     ]
    }
   ],
   "source": [
    "raise IndexError"
   ]
  },
  {
   "cell_type": "code",
   "execution_count": null,
   "metadata": {},
   "outputs": [],
   "source": []
  },
  {
   "cell_type": "markdown",
   "metadata": {},
   "source": [
    "###### User-Defined Exceptions"
   ]
  },
  {
   "cell_type": "raw",
   "metadata": {},
   "source": [
    "The raise statement introduced in the prior section raises a built-in exception defined\n",
    "in Python’s built-in scope. As you’ll learn later in this part of the book, you can also\n",
    "define new exceptions of your own that are specific to your programs. User-defined\n",
    "exceptions are coded with classes, which inherit from a built-in exception class: usually\n",
    "the class named Exception :"
   ]
  },
  {
   "cell_type": "code",
   "execution_count": 4,
   "metadata": {},
   "outputs": [
    {
     "name": "stdout",
     "output_type": "stream",
     "text": [
      "oops error occured\n"
     ]
    }
   ],
   "source": [
    "class AlreadyGotOne(Exception):\n",
    "    pass\n",
    "def grail():\n",
    "    raise AlreadyGotOne()\n",
    "    \n",
    "try:\n",
    "    grail()\n",
    "except AlreadyGotOne:\n",
    "    print('oops error occured')"
   ]
  },
  {
   "cell_type": "code",
   "execution_count": 5,
   "metadata": {},
   "outputs": [],
   "source": [
    "class Career(Exception):\n",
    "    def __str__(self): return 'So I became a waiter...'"
   ]
  },
  {
   "cell_type": "code",
   "execution_count": 6,
   "metadata": {},
   "outputs": [
    {
     "ename": "Career",
     "evalue": "So I became a waiter...",
     "output_type": "error",
     "traceback": [
      "\u001b[0;31m---------------------------------------------------------------------------\u001b[0m",
      "\u001b[0;31mCareer\u001b[0m                                    Traceback (most recent call last)",
      "\u001b[0;32m<ipython-input-6-a2e89721d13a>\u001b[0m in \u001b[0;36m<module>\u001b[0;34m\u001b[0m\n\u001b[0;32m----> 1\u001b[0;31m \u001b[0;32mraise\u001b[0m \u001b[0mCareer\u001b[0m\u001b[0;34m(\u001b[0m\u001b[0;34m)\u001b[0m\u001b[0;34m\u001b[0m\u001b[0;34m\u001b[0m\u001b[0m\n\u001b[0m",
      "\u001b[0;31mCareer\u001b[0m: So I became a waiter..."
     ]
    }
   ],
   "source": [
    "raise Career()"
   ]
  },
  {
   "cell_type": "code",
   "execution_count": null,
   "metadata": {},
   "outputs": [],
   "source": []
  }
 ],
 "metadata": {
  "kernelspec": {
   "display_name": "Python 3",
   "language": "python",
   "name": "python3"
  },
  "language_info": {
   "codemirror_mode": {
    "name": "ipython",
    "version": 3
   },
   "file_extension": ".py",
   "mimetype": "text/x-python",
   "name": "python",
   "nbconvert_exporter": "python",
   "pygments_lexer": "ipython3",
   "version": "3.7.3"
  }
 },
 "nbformat": 4,
 "nbformat_minor": 2
}
