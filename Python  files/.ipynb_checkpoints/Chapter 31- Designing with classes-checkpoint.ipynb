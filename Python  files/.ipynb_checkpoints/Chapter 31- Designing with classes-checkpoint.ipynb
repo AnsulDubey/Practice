{
 "cells": [
  {
   "cell_type": "code",
   "execution_count": 1,
   "metadata": {},
   "outputs": [],
   "source": [
    "class A:\n",
    "    def display():\n",
    "        print('holla')\n",
    "    def display():\n",
    "        print(\"hello\")"
   ]
  },
  {
   "cell_type": "code",
   "execution_count": 2,
   "metadata": {},
   "outputs": [
    {
     "name": "stdout",
     "output_type": "stream",
     "text": [
      "hello\n"
     ]
    }
   ],
   "source": [
    "A.display()"
   ]
  },
  {
   "cell_type": "code",
   "execution_count": 4,
   "metadata": {},
   "outputs": [],
   "source": [
    "display()"
   ]
  },
  {
   "cell_type": "code",
   "execution_count": null,
   "metadata": {},
   "outputs": [],
   "source": []
  },
  {
   "cell_type": "markdown",
   "metadata": {},
   "source": [
    "note- for data hiding we  define class variable with double underscore(__variablename) soit can not be accesed\n",
    "outside the class\n",
    "These variavle are called pseudoprivate"
   ]
  },
  {
   "cell_type": "code",
   "execution_count": null,
   "metadata": {},
   "outputs": [],
   "source": []
  },
  {
   "cell_type": "code",
   "execution_count": null,
   "metadata": {},
   "outputs": [],
   "source": [
    "Test Your Knowledge: Quiz\n",
    "    \n",
    "1.What is multiple inheritance?\n",
    "2.What is delegation?\n",
    "3.What is composition?\n",
    "4.What are bound methods?\n",
    "5.What are pseudoprivate attributes used for?\n",
    "\n",
    "Test Your Knowledge: Answers\n",
    "1. Multiple inheritance occurs when a class inherits from more than one superclass;\n",
    "it’s useful for mixing together multiple packages of class-based code. The left-to-\n",
    "right order in class statement headers determines the general order of attribute\n",
    "searches.\n",
    "2. Delegation involves wrapping an object in a proxy class, which adds extra behavior\n",
    "and passes other operations to the wrapped object. The proxy retains the interface\n",
    "of the wrapped object.\n",
    "3. Composition is a technique whereby a controller class embeds and directs a num-\n",
    "ber of objects, and provides an interface all its own; it’s a way to build up larger\n",
    "structures with classes.\n",
    "4. Bound methods combine an instance and a method function; you can call them\n",
    "without passing in an instance object explicitly because the original instance is still\n",
    "available.\n",
    "5. Pseudoprivate attributes (whose names begin but do not end with two leading\n",
    "underscores: __X ) are used to localize names to the enclosing class. This includes\n",
    "both class attributes like methods defined inside the class, and self instance at-\n",
    "tributes assigned inside the class’s methods. Such names are expanded to include\n",
    "the class name, which makes them generally unique."
   ]
  }
 ],
 "metadata": {
  "kernelspec": {
   "display_name": "Python 3",
   "language": "python",
   "name": "python3"
  },
  "language_info": {
   "codemirror_mode": {
    "name": "ipython",
    "version": 3
   },
   "file_extension": ".py",
   "mimetype": "text/x-python",
   "name": "python",
   "nbconvert_exporter": "python",
   "pygments_lexer": "ipython3",
   "version": "3.7.3"
  }
 },
 "nbformat": 4,
 "nbformat_minor": 2
}
