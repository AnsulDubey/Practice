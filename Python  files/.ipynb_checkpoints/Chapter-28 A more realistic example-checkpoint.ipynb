{
 "cells": [
  {
   "cell_type": "raw",
   "metadata": {},
   "source": [
    "we have to specify a default\n",
    "for pay because according to Python’s syntax rules and Chapter 18, any arguments in\n",
    "a function’s header after the first default must all have defaults, too:"
   ]
  },
  {
   "cell_type": "code",
   "execution_count": null,
   "metadata": {},
   "outputs": [],
   "source": []
  },
  {
   "cell_type": "code",
   "execution_count": 8,
   "metadata": {},
   "outputs": [
    {
     "ename": "SyntaxError",
     "evalue": "non-default argument follows default argument (<ipython-input-8-8bbc6ca61ea6>, line 2)",
     "output_type": "error",
     "traceback": [
      "\u001b[0;36m  File \u001b[0;32m\"<ipython-input-8-8bbc6ca61ea6>\"\u001b[0;36m, line \u001b[0;32m2\u001b[0m\n\u001b[0;31m    def __init__(self, name, job=None, pay):\u001b[0m\n\u001b[0m                ^\u001b[0m\n\u001b[0;31mSyntaxError\u001b[0m\u001b[0;31m:\u001b[0m non-default argument follows default argument\n"
     ]
    }
   ],
   "source": [
    "class Person:\n",
    "    def __init__(self, name, job=None, pay):\n",
    "        self.name = name\n",
    "        self.job = job\n",
    "        self.pay = pay"
   ]
  },
  {
   "cell_type": "code",
   "execution_count": 9,
   "metadata": {},
   "outputs": [],
   "source": [
    "class Person:\n",
    "    def __init__(self, name, job=None, pay=0):\n",
    "        self.name = name\n",
    "        self.job = job\n",
    "        self.pay = pay"
   ]
  },
  {
   "cell_type": "code",
   "execution_count": 11,
   "metadata": {},
   "outputs": [],
   "source": [
    "bob=Person('Bob Marley')"
   ]
  },
  {
   "cell_type": "code",
   "execution_count": 12,
   "metadata": {},
   "outputs": [
    {
     "data": {
      "text/plain": [
       "'Bob Marley'"
      ]
     },
     "execution_count": 12,
     "metadata": {},
     "output_type": "execute_result"
    }
   ],
   "source": [
    "bob.name"
   ]
  },
  {
   "cell_type": "code",
   "execution_count": 14,
   "metadata": {},
   "outputs": [],
   "source": [
    "bob.job"
   ]
  },
  {
   "cell_type": "code",
   "execution_count": 15,
   "metadata": {},
   "outputs": [
    {
     "data": {
      "text/plain": [
       "0"
      ]
     },
     "execution_count": 15,
     "metadata": {},
     "output_type": "execute_result"
    }
   ],
   "source": [
    "bob.pay"
   ]
  },
  {
   "cell_type": "code",
   "execution_count": 16,
   "metadata": {},
   "outputs": [],
   "source": [
    "sue = Person('Sue Jones', job='dev', pay=100000)\n",
    "\n",
    "\n"
   ]
  },
  {
   "cell_type": "code",
   "execution_count": 17,
   "metadata": {},
   "outputs": [
    {
     "ename": "NameError",
     "evalue": "name 'reverse' is not defined",
     "output_type": "error",
     "traceback": [
      "\u001b[0;31m---------------------------------------------------------------------------\u001b[0m",
      "\u001b[0;31mNameError\u001b[0m                                 Traceback (most recent call last)",
      "\u001b[0;32m<ipython-input-17-9dd3eb84aa66>\u001b[0m in \u001b[0;36m<module>\u001b[0;34m\u001b[0m\n\u001b[1;32m      1\u001b[0m \u001b[0ms\u001b[0m\u001b[0;34m=\u001b[0m\u001b[0;34m'chakresh'\u001b[0m\u001b[0;34m\u001b[0m\u001b[0;34m\u001b[0m\u001b[0m\n\u001b[0;32m----> 2\u001b[0;31m \u001b[0mreverse\u001b[0m\u001b[0;34m(\u001b[0m\u001b[0ms\u001b[0m\u001b[0;34m)\u001b[0m\u001b[0;34m\u001b[0m\u001b[0;34m\u001b[0m\u001b[0m\n\u001b[0m",
      "\u001b[0;31mNameError\u001b[0m: name 'reverse' is not defined"
     ]
    }
   ],
   "source": [
    "s='chakresh'\n",
    "reverse(s)"
   ]
  },
  {
   "cell_type": "code",
   "execution_count": 18,
   "metadata": {},
   "outputs": [
    {
     "ename": "NameError",
     "evalue": "name 'reverse' is not defined",
     "output_type": "error",
     "traceback": [
      "\u001b[0;31m---------------------------------------------------------------------------\u001b[0m",
      "\u001b[0;31mNameError\u001b[0m                                 Traceback (most recent call last)",
      "\u001b[0;32m<ipython-input-18-b5cd59db3037>\u001b[0m in \u001b[0;36m<module>\u001b[0;34m\u001b[0m\n\u001b[0;32m----> 1\u001b[0;31m \u001b[0mreverse\u001b[0m\u001b[0;34m(\u001b[0m\u001b[0mlist\u001b[0m\u001b[0;34m(\u001b[0m\u001b[0ms\u001b[0m\u001b[0;34m)\u001b[0m\u001b[0;34m)\u001b[0m\u001b[0;34m\u001b[0m\u001b[0;34m\u001b[0m\u001b[0m\n\u001b[0m",
      "\u001b[0;31mNameError\u001b[0m: name 'reverse' is not defined"
     ]
    }
   ],
   "source": [
    "reverse(list(s))\n"
   ]
  },
  {
   "cell_type": "code",
   "execution_count": 19,
   "metadata": {},
   "outputs": [
    {
     "data": {
      "text/plain": [
       "['c', 'h', 'a', 'k', 'r', 'e', 's', 'h']"
      ]
     },
     "execution_count": 19,
     "metadata": {},
     "output_type": "execute_result"
    }
   ],
   "source": [
    "list(s)"
   ]
  },
  {
   "cell_type": "code",
   "execution_count": 22,
   "metadata": {},
   "outputs": [],
   "source": [
    "list(s).reverse()"
   ]
  },
  {
   "cell_type": "code",
   "execution_count": 24,
   "metadata": {},
   "outputs": [],
   "source": [
    "l=[]\n"
   ]
  },
  {
   "cell_type": "code",
   "execution_count": 53,
   "metadata": {},
   "outputs": [],
   "source": [
    "class Person:\n",
    "    def __init__(self,name,age,job,pay):\n",
    "        self.name=name\n",
    "        self.age=age\n",
    "        self.job=job\n",
    "        self.pay=pay\n",
    "    def display(self):\n",
    "        print(self.name+ ' {}'.format(self.age))\n",
    "    def giveRaise(self,percent):\n",
    "        self.pay=int(self.pay*(a+percent))\n",
    "        \n",
    "        "
   ]
  },
  {
   "cell_type": "raw",
   "metadata": {},
   "source": [
    "Augmenting Methods: The Good Way\n",
    "    \n",
    "What we really want to do here is somehow augment the original giveRaise , instead of\n",
    "replacing it altogether. The good way to do that in Python is by calling to the original\n",
    "version directly, with augmented arguments, like this:\n",
    "    \n",
    "class Manager(Person):\n",
    "    def giveRaise(self, percent, bonus=.10):\n",
    "        Person.giveRaise(self, percent + bonus)             # Good: augment original"
   ]
  },
  {
   "cell_type": "code",
   "execution_count": 43,
   "metadata": {},
   "outputs": [],
   "source": [
    "class Manager(Person):\n",
    "    def display(self):\n",
    "        print(self.age)\n",
    "    "
   ]
  },
  {
   "cell_type": "code",
   "execution_count": 44,
   "metadata": {},
   "outputs": [],
   "source": [
    "a=Person(\"Bob\",21,'Engineer',1000000)"
   ]
  },
  {
   "cell_type": "code",
   "execution_count": 45,
   "metadata": {},
   "outputs": [
    {
     "name": "stdout",
     "output_type": "stream",
     "text": [
      "Bob 21\n"
     ]
    }
   ],
   "source": [
    "a.display()"
   ]
  },
  {
   "cell_type": "code",
   "execution_count": 46,
   "metadata": {},
   "outputs": [
    {
     "ename": "TypeError",
     "evalue": "__init__() missing 4 required positional arguments: 'name', 'age', 'job', and 'pay'",
     "output_type": "error",
     "traceback": [
      "\u001b[0;31m---------------------------------------------------------------------------\u001b[0m",
      "\u001b[0;31mTypeError\u001b[0m                                 Traceback (most recent call last)",
      "\u001b[0;32m<ipython-input-46-b084f3e29b66>\u001b[0m in \u001b[0;36m<module>\u001b[0;34m\u001b[0m\n\u001b[1;32m      1\u001b[0m \u001b[0;34m\u001b[0m\u001b[0m\n\u001b[0;32m----> 2\u001b[0;31m \u001b[0mm\u001b[0m\u001b[0;34m=\u001b[0m\u001b[0mManager\u001b[0m\u001b[0;34m(\u001b[0m\u001b[0;34m)\u001b[0m\u001b[0;34m\u001b[0m\u001b[0;34m\u001b[0m\u001b[0m\n\u001b[0m",
      "\u001b[0;31mTypeError\u001b[0m: __init__() missing 4 required positional arguments: 'name', 'age', 'job', and 'pay'"
     ]
    }
   ],
   "source": [
    "\n",
    "m=Manager()"
   ]
  },
  {
   "cell_type": "code",
   "execution_count": 47,
   "metadata": {},
   "outputs": [],
   "source": [
    "m=Manager('arj',34,'Doctor',1230000)"
   ]
  },
  {
   "cell_type": "code",
   "execution_count": 48,
   "metadata": {},
   "outputs": [
    {
     "name": "stdout",
     "output_type": "stream",
     "text": [
      "34\n"
     ]
    }
   ],
   "source": [
    "m.display()"
   ]
  },
  {
   "cell_type": "code",
   "execution_count": 54,
   "metadata": {},
   "outputs": [],
   "source": [
    "class Manager(Person):\n",
    "    def display(self):\n",
    "        print(self.age)\n",
    "    def display_pay(self):\n",
    "        print(self.pay)"
   ]
  },
  {
   "cell_type": "code",
   "execution_count": 51,
   "metadata": {},
   "outputs": [],
   "source": [
    "m=Manager('arj',34,'Doctor',1230000)"
   ]
  },
  {
   "cell_type": "code",
   "execution_count": 52,
   "metadata": {},
   "outputs": [
    {
     "name": "stdout",
     "output_type": "stream",
     "text": [
      "1230000\n"
     ]
    }
   ],
   "source": [
    "m.display_pay()"
   ]
  },
  {
   "cell_type": "code",
   "execution_count": 55,
   "metadata": {},
   "outputs": [],
   "source": [
    "a=Person(\"Bob\",21,'Engineer',1000000)"
   ]
  },
  {
   "cell_type": "code",
   "execution_count": 56,
   "metadata": {},
   "outputs": [
    {
     "ename": "AttributeError",
     "evalue": "'Person' object has no attribute 'display_pay'",
     "output_type": "error",
     "traceback": [
      "\u001b[0;31m---------------------------------------------------------------------------\u001b[0m",
      "\u001b[0;31mAttributeError\u001b[0m                            Traceback (most recent call last)",
      "\u001b[0;32m<ipython-input-56-b25c0624f357>\u001b[0m in \u001b[0;36m<module>\u001b[0;34m\u001b[0m\n\u001b[0;32m----> 1\u001b[0;31m \u001b[0ma\u001b[0m\u001b[0;34m.\u001b[0m\u001b[0mdisplay_pay\u001b[0m\u001b[0;34m(\u001b[0m\u001b[0;34m)\u001b[0m\u001b[0;34m\u001b[0m\u001b[0;34m\u001b[0m\u001b[0m\n\u001b[0m",
      "\u001b[0;31mAttributeError\u001b[0m: 'Person' object has no attribute 'display_pay'"
     ]
    }
   ],
   "source": [
    "a.display_pay()"
   ]
  },
  {
   "cell_type": "markdown",
   "metadata": {},
   "source": [
    "supper class object can no use method defined in sub class"
   ]
  },
  {
   "cell_type": "code",
   "execution_count": null,
   "metadata": {},
   "outputs": [],
   "source": []
  },
  {
   "cell_type": "markdown",
   "metadata": {},
   "source": [
    "##### Step 5: Customizing Constructors, Too"
   ]
  },
  {
   "cell_type": "markdown",
   "metadata": {},
   "source": [
    "Our code works as it is, but if you study the current version closely, you may be struck\n",
    "by something a bit odd—it seems pointless to have to provide a mgr job name for\n",
    "Manager objects when we create them: this is already implied by the class itself. It would\n",
    "be better if we could somehow fill in this value automatically when a Manager is made.\n",
    "The trick we need to improve on this turns out to be the same as the one we employed\n",
    "in the prior section: we want to customize the constructor logic for Manager s in such a\n",
    "way as to provide a job name automatically. In terms of code, we want to redefine an\n",
    "__init__ method in Manager that provides the mgr string for us. And as in giveRaise\n",
    "customization, we also want to run the original __init__ in Person by calling through\n",
    "the class name, so it still initializes our objects’ state information attributes.\n",
    "The following extension to person.py will do the job—we’ve coded the new Manager\n",
    "constructor and changed the call that creates tom to not pass in the mgr job name:"
   ]
  },
  {
   "cell_type": "raw",
   "metadata": {},
   "source": [
    "class Manager(Person):\n",
    "    def __init__(self, name, pay):                            # Redefine constructor\n",
    "        Person.__init__(self, name, 'mgr', pay)                  # Run original with 'mgr'\n",
    "    def giveRaise(self, percent, bonus=.10):\n",
    "        Person.giveRaise(self, percent + bonus)"
   ]
  },
  {
   "cell_type": "code",
   "execution_count": 57,
   "metadata": {},
   "outputs": [],
   "source": [
    "class Person:\n",
    "    def __init__(self,name,job,pay):\n",
    "        self.name=name\n",
    "        self.job=job\n",
    "        self.pay=pay\n",
    "    def display(self):\n",
    "        print(self.name)\n",
    "    def giveRaise(self,percent):\n",
    "        self.pay=int(self.pay*(a+percent))"
   ]
  },
  {
   "cell_type": "code",
   "execution_count": 58,
   "metadata": {},
   "outputs": [],
   "source": [
    "class Manager(Person):\n",
    "    def __init__(self, name, pay):                            # Redefine constructor\n",
    "        Person.__init__(self, name, 'mgr', pay)                  # Run original with 'mgr'\n",
    "    def giveRaise(self, percent, bonus=.10):\n",
    "        Person.giveRaise(self, percent + bonus)"
   ]
  },
  {
   "cell_type": "code",
   "execution_count": 59,
   "metadata": {},
   "outputs": [],
   "source": [
    "m=Manager('chakr',123344)"
   ]
  },
  {
   "cell_type": "code",
   "execution_count": 60,
   "metadata": {},
   "outputs": [
    {
     "name": "stdout",
     "output_type": "stream",
     "text": [
      "chakr\n"
     ]
    }
   ],
   "source": [
    "m.display()"
   ]
  },
  {
   "cell_type": "code",
   "execution_count": 61,
   "metadata": {},
   "outputs": [],
   "source": [
    "class Manager(Person):\n",
    "    def __init__(self, name, pay):\n",
    "        self.name=name\n",
    "        self.pay=pay\n",
    "                    \n",
    "    def giveRaise(self, percent, bonus=.10):\n",
    "        Person.giveRaise(self, percent + bonus)"
   ]
  },
  {
   "cell_type": "code",
   "execution_count": 62,
   "metadata": {},
   "outputs": [],
   "source": [
    "m=Manager('hh',23)"
   ]
  },
  {
   "cell_type": "code",
   "execution_count": 63,
   "metadata": {},
   "outputs": [
    {
     "name": "stdout",
     "output_type": "stream",
     "text": [
      "hh\n"
     ]
    }
   ],
   "source": [
    "m.display()"
   ]
  },
  {
   "cell_type": "code",
   "execution_count": null,
   "metadata": {},
   "outputs": [],
   "source": []
  },
  {
   "cell_type": "raw",
   "metadata": {},
   "source": [
    "Instance creation—filling out instance attributes\n",
    "\n",
    "Behavior methods—encapsulating logic in a class’s methods\n",
    "\n",
    "Operator overloading—providing behavior for built-in operations like printing\n",
    "\n",
    "Customizing behavior—redefining methods in subclasses to specialize them\n",
    "\n",
    "Customizing constructors—adding initialization logic to superclass steps"
   ]
  },
  {
   "cell_type": "code",
   "execution_count": null,
   "metadata": {},
   "outputs": [],
   "source": []
  },
  {
   "cell_type": "markdown",
   "metadata": {},
   "source": [
    "##### Special Class Attributes"
   ]
  },
  {
   "cell_type": "raw",
   "metadata": {},
   "source": [
    "• The built-in instance.__class__ attribute provides a link from an instance to the\n",
    "class from which it was created. Classes in turn have a __name__ , just like modules,\n",
    "and a __bases__ sequence that provides access to superclasses. We can use these\n",
    "here to print the name of the class from which an instance is made rather than one\n",
    "we’ve hardcoded.\n",
    "\n",
    "• The built-in object.__dict__ attribute provides a dictionary with one key/value\n",
    "pair for every attribute attached to a namespace object (including modules, classes,\n",
    "and instances). Because it is a dictionary, we can fetch its keys list, index by key,\n",
    "iterate over its keys, and so on, to process all attributes generically. We can use this\n",
    "here to print every attribute in any instance, not just those we hardcode in custom\n",
    "displays, much as we did in Chapter 25’s module tools."
   ]
  },
  {
   "cell_type": "code",
   "execution_count": null,
   "metadata": {},
   "outputs": [],
   "source": []
  },
  {
   "cell_type": "markdown",
   "metadata": {},
   "source": [
    "##### Step 7 (Final): Storing Objects in a Database"
   ]
  },
  {
   "cell_type": "raw",
   "metadata": {},
   "source": [
    "Pickle and  Shelves\n",
    "Object persistence is implemented by three standard library modules, available in every\n",
    "Python:\n",
    "pickle\n",
    "Serializes arbitrary Python objects to and from a string of bytes\n",
    "dbm (named anydbm in Python 2.X)\n",
    "Implements an access-by-key filesystem for storing strings\n",
    "shelve\n",
    "Uses the other two modules to store Python objects on a file by key"
   ]
  },
  {
   "cell_type": "markdown",
   "metadata": {},
   "source": [
    "The shelve module\n",
    "Although it’s easy to use pickle by itself to store objects in simple flat files and load\n",
    "them from there later, the shelve module provides an extra layer of structure that allows\n",
    "you to store pickled objects by key. shelve translates an object to its pickled string with\n",
    "pickle and stores that string under a key in a dbm file; when later loading, shelve fetches\n",
    "the pickled string by key and re-creates the original object in memory with pickle . This\n",
    "is all quite a trick, but to your script a shelve 2 of pickled objects looks just like a\n",
    "dictionary—you index by key to fetch, assign to keys to store, and use dictionary tools\n",
    "such as len , in , and dict.keys to get information. Shelves automatically map dictionary\n",
    "operations to objects stored in a file."
   ]
  },
  {
   "cell_type": "markdown",
   "metadata": {},
   "source": [
    "##### Storing Objects on a Shelve Database"
   ]
  },
  {
   "cell_type": "raw",
   "metadata": {},
   "source": [
    "from person import Person, Manager# Load our classes\n",
    "bob = Person('Bob Smith')# Re-create objects to be stored\n",
    "sue = Person('Sue Jones', job='dev', pay=100000)\n",
    "tom = Manager('Tom Jones', 50000)\n",
    "\n",
    "import shelve\n",
    "db = shelve.open('persondb')                                     # Filename where objects are stored\n",
    "for obj in (bob, sue, tom):                                      # Use object's name attr as key\n",
    "    db[obj.name] = obj                                           # Store object on shelve by key\n",
    "db.close()"
   ]
  },
  {
   "cell_type": "raw",
   "metadata": {},
   "source": [
    "Exploring Shelve\n",
    "\n",
    "Python shell, but they are binary hash files, and most of their content makes little sense\n",
    "outside the context of the shelve module. With Python 3.X and no extra software\n",
    "installed, our database is stored in three files (in 2.X, it’s just one file, persondb, because\n",
    "the bsddb extension module is preinstalled with Python for shelves; in 3.X, bsddb is an\n",
    "optional third-party open source add-on).\n",
    "For example, Python’s standard library glob module allows us to get directory listings\n",
    "in Python code to verify the files here, and we can open the files in text or binary mode\n",
    "to explore strings and bytes:\n",
    "    \n",
    ">>> import glob\n",
    ">>> glob.glob('person*')\n",
    "\n",
    "['person-composite.py', 'person-department.py', 'person.py', 'person.pyc',\n",
    "'persondb.bak', 'persondb.dat', 'persondb.dir']\n",
    "\n",
    ">>> print(open('persondb.dir').read())\n",
    "'Sue Jones', (512, 92)\n",
    "'Tom Jones', (1024, 91)\n",
    "'Bob Smith', (0, 80)"
   ]
  },
  {
   "cell_type": "raw",
   "metadata": {},
   "source": [
    "This content isn’t impossible to decipher, but it can vary on different platforms and\n",
    "doesn’t exactly qualify as a user-friendly database interface! To verify our work better,\n",
    "we can write another script, or poke around our shelve at the interactive prompt. Be-\n",
    "cause shelves are Python objects containing Python objects, we can process them with\n",
    "normal Python syntax and development modes. Here, the interactive prompt effectively\n",
    "becomes a database client:\n",
    "    \n",
    ">>> import shelve\n",
    ">>> db = shelve.open('persondb')             # Reopen the shelve\n",
    ">>> len(db)\n",
    "3\n",
    ">>> list(db.keys())\n",
    "['Sue Jones', 'Tom Jones', 'Bob Smith']   # Three 'records' stored\n",
    "\n",
    ">>> bob = db['Bob Smith']\n",
    ">>> bob\n",
    "[Person: job=None, name=Bob Smith, pay=0]"
   ]
  },
  {
   "cell_type": "code",
   "execution_count": null,
   "metadata": {},
   "outputs": [],
   "source": []
  }
 ],
 "metadata": {
  "kernelspec": {
   "display_name": "Python 3",
   "language": "python",
   "name": "python3"
  },
  "language_info": {
   "codemirror_mode": {
    "name": "ipython",
    "version": 3
   },
   "file_extension": ".py",
   "mimetype": "text/x-python",
   "name": "python",
   "nbconvert_exporter": "python",
   "pygments_lexer": "ipython3",
   "version": "3.7.3"
  }
 },
 "nbformat": 4,
 "nbformat_minor": 2
}
