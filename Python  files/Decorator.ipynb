{
 "cells": [
  {
   "cell_type": "code",
   "execution_count": 1,
   "metadata": {},
   "outputs": [
    {
     "name": "stdout",
     "output_type": "stream",
     "text": [
      "hello\n"
     ]
    }
   ],
   "source": [
    "exec(\"print('hello')\")"
   ]
  },
  {
   "cell_type": "code",
   "execution_count": 8,
   "metadata": {},
   "outputs": [],
   "source": [
    "s=\"\"\"\n",
    "a=10\n",
    "b=3\n",
    "print(a+b)\"\"\""
   ]
  },
  {
   "cell_type": "code",
   "execution_count": 9,
   "metadata": {},
   "outputs": [
    {
     "name": "stdout",
     "output_type": "stream",
     "text": [
      "13\n"
     ]
    }
   ],
   "source": [
    "exec(s)"
   ]
  },
  {
   "cell_type": "markdown",
   "metadata": {},
   "source": [
    "##### function decorators"
   ]
  },
  {
   "cell_type": "raw",
   "metadata": {},
   "source": [
    "class C:\n",
    "@staticmethod\n",
    "def meth(...): ...                              # meth = staticmethod(meth)\n",
    "\n",
    "class C:\n",
    "@property\n",
    "def name(self): ...                             # name = property(name)"
   ]
  },
  {
   "cell_type": "code",
   "execution_count": null,
   "metadata": {},
   "outputs": [],
   "source": []
  },
  {
   "cell_type": "raw",
   "metadata": {},
   "source": [
    "def decorator(F):\n",
    "# Process function F\n",
    "return F\n",
    "\n",
    "@decorator\n",
    "def func(): ...                            # func = decorator(func)"
   ]
  },
  {
   "cell_type": "code",
   "execution_count": null,
   "metadata": {},
   "outputs": [],
   "source": []
  },
  {
   "cell_type": "markdown",
   "metadata": {},
   "source": [
    "##### Class Decorators"
   ]
  },
  {
   "cell_type": "markdown",
   "metadata": {},
   "source": [
    "Class decorators are strongly related to function decorators; in fact, they use the same\n",
    "syntax and very similar coding patterns. Rather than wrapping individual functions or\n",
    "methods, though, class decorators are a way to manage classes, or wrap up instance\n",
    "construction calls with extra logic that manages or augments instances created from a\n",
    "class. In the latter role, they may manage full object interfaces."
   ]
  },
  {
   "cell_type": "code",
   "execution_count": 19,
   "metadata": {},
   "outputs": [],
   "source": [
    "def decorator(cls):                      # On @ decoration\n",
    "    class Wrapper:\n",
    "        def __init__(self, *args):               # On instance creation\n",
    "            self.wrapped = cls(*args)\n",
    "        def __getattr__(self, name):             # On attribute fetch\n",
    "            return getattr(self.wrapped, name)\n",
    "    return Wrapper"
   ]
  },
  {
   "cell_type": "code",
   "execution_count": 20,
   "metadata": {},
   "outputs": [
    {
     "name": "stdout",
     "output_type": "stream",
     "text": [
      "spam\n"
     ]
    }
   ],
   "source": [
    "@decorator\n",
    "class C:                                  # C = decorator(C)\n",
    "    def __init__(self, x, y):            # Run by Wrapper.__init__\n",
    "        self.attr = 'spam' \n",
    "\n",
    "x = C(6, 7)\n",
    "print(x.attr)"
   ]
  },
  {
   "cell_type": "code",
   "execution_count": null,
   "metadata": {},
   "outputs": [],
   "source": []
  },
  {
   "cell_type": "markdown",
   "metadata": {},
   "source": [
    "##### Decorator Nesting"
   ]
  },
  {
   "cell_type": "raw",
   "metadata": {},
   "source": [
    "@A\n",
    "@B\n",
    "@C\n",
    "def f(...):"
   ]
  },
  {
   "cell_type": "raw",
   "metadata": {},
   "source": [
    "def f(...):\n",
    "...\n",
    "f = A(B(C(f)))"
   ]
  },
  {
   "cell_type": "code",
   "execution_count": null,
   "metadata": {},
   "outputs": [],
   "source": []
  },
  {
   "cell_type": "raw",
   "metadata": {},
   "source": [
    "@spam\n",
    "@eggs\n",
    "class C:\n",
    "...\n",
    "\n",
    "X = C()\n",
    "\n",
    "is equivalent to the following:\n",
    "    \n",
    "class C:\n",
    "...\n",
    "C = spam(eggs(C))\n",
    "X = C()"
   ]
  },
  {
   "cell_type": "code",
   "execution_count": null,
   "metadata": {},
   "outputs": [],
   "source": []
  }
 ],
 "metadata": {
  "kernelspec": {
   "display_name": "Python 3",
   "language": "python",
   "name": "python3"
  },
  "language_info": {
   "codemirror_mode": {
    "name": "ipython",
    "version": 3
   },
   "file_extension": ".py",
   "mimetype": "text/x-python",
   "name": "python",
   "nbconvert_exporter": "python",
   "pygments_lexer": "ipython3",
   "version": "3.7.3"
  }
 },
 "nbformat": 4,
 "nbformat_minor": 2
}
