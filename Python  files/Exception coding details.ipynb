{
 "cells": [
  {
   "cell_type": "raw",
   "metadata": {},
   "source": [
    "try:\n",
    "    statements                           # Run this main action first\n",
    "except name1:\n",
    "    statements                              # Run if name1 is raised during try block\n",
    "except (name2, name3):\n",
    "    statements                             # Run if any of these exceptions occur\n",
    "except name4 as var:\n",
    "    statements                           # Run if name4 is raised, assign instance raised to var\n",
    "except:\n",
    "    statements                           # Run for all other exceptions raised\n",
    "else:\n",
    "    statements                           # Run if no exception was raised during try block\n",
    "\n",
    "\n",
    "\n",
    "\n",
    "\n"
   ]
  },
  {
   "cell_type": "markdown",
   "metadata": {},
   "source": [
    "Note that the else runs only when no exception occurs in action —it does\n",
    "not run when an exception without a matching except is raised."
   ]
  },
  {
   "cell_type": "raw",
   "metadata": {},
   "source": [
    "Catching all: The empty except and Exception\n",
    "If you really want a general “catchall” clause, an empty except does the trick:\n",
    "try:\n",
    "    action()\n",
    "except NameError:                           # Handle NameError\n",
    "    ...\n",
    "except IndexError:                          # Handle IndexError\n",
    "    ...\n",
    "except:                                     # Handle all other exceptions\n",
    "    ...\n",
    "\n",
    "\n"
   ]
  },
  {
   "cell_type": "raw",
   "metadata": {},
   "source": [
    "Python 3.X more strongly supports an alternative that solves one of these problems—\n",
    "catching an exception named Exception has almost the same effect as an empty\n",
    "except , but ignores exceptions related to system exits:\n",
    "try:\n",
    "    action()\n",
    "except Exception:\n",
    "    pass                 # Catch all possible exceptions, except exits"
   ]
  },
  {
   "cell_type": "raw",
   "metadata": {},
   "source": [
    "try:\n",
    "    raise Exception\n",
    "except IndexException"
   ]
  },
  {
   "cell_type": "raw",
   "metadata": {},
   "source": [
    "try -> except -> else -> finally"
   ]
  },
  {
   "cell_type": "markdown",
   "metadata": {},
   "source": [
    "where the else and finally are optional, and there may be zero or more except s, but\n",
    "there must be at least one except if an else appears. Really, the try statement consists\n",
    "of two parts: except s with an optional else , and/or the finally ."
   ]
  },
  {
   "cell_type": "code",
   "execution_count": 8,
   "metadata": {},
   "outputs": [
    {
     "ename": "SyntaxError",
     "evalue": "invalid syntax (<ipython-input-8-69ab3f6a5f77>, line 4)",
     "output_type": "error",
     "traceback": [
      "\u001b[0;36m  File \u001b[0;32m\"<ipython-input-8-69ab3f6a5f77>\"\u001b[0;36m, line \u001b[0;32m4\u001b[0m\n\u001b[0;31m    else:\u001b[0m\n\u001b[0m       ^\u001b[0m\n\u001b[0;31mSyntaxError\u001b[0m\u001b[0;31m:\u001b[0m invalid syntax\n"
     ]
    }
   ],
   "source": [
    "try:\n",
    "    print('hi')\n",
    "\n",
    "else:\n",
    "    pass\n"
   ]
  },
  {
   "cell_type": "code",
   "execution_count": null,
   "metadata": {},
   "outputs": [],
   "source": []
  },
  {
   "cell_type": "raw",
   "metadata": {},
   "source": [
    "The raise Statement\n",
    "To trigger exceptions explicitly, you can code raise statements. Their general form is\n",
    "simple—a raise statement consists of the word raise , optionally followed by the class\n",
    "to be raised or an instance of it:\n",
    "    \n",
    "raise instance                                # Raise instance of class\n",
    "raise class                                   # Make and raise instance of class: makes an instance\n",
    "raise                                         # Reraise the most recent exception\n",
    "\n",
    "\n"
   ]
  },
  {
   "cell_type": "raw",
   "metadata": {},
   "source": [
    "Raising Exceptions\n",
    "To make this clearer, let’s look at some examples. With built-in exceptions, the fol-\n",
    "lowing two forms are equivalent—both raise an instance of the exception class named,\n",
    "but the first creates the instance implicitly:\n",
    "    \n",
    "raise IndexError                             # Class (instance created)\n",
    "raise IndexError()                           # Instance (created in statement)\n",
    "\n",
    "\n",
    "We can also create the instance ahead of time—because the raise statement accepts\n",
    "any kind of object reference, the following two examples raise IndexError just like the\n",
    "prior two:\n",
    "    \n",
    "exc = IndexError()                          # Create instance ahead of time\n",
    "raise exc\n",
    "\n",
    "excs = [IndexError, TypeError]\n",
    "raise excs[0]\n",
    "\n",
    "\n",
    "When an exception is raised, Python sends the raised instance along with the exception.\n",
    "If a try includes an except name as X: clause, the variable X will be assigned the instance\n",
    "provided in the raise :"
   ]
  },
  {
   "cell_type": "code",
   "execution_count": 17,
   "metadata": {},
   "outputs": [
    {
     "name": "stdout",
     "output_type": "stream",
     "text": [
      "('No active exception to reraise',)\n"
     ]
    }
   ],
   "source": [
    "try:\n",
    "    raise \n",
    "except Exception as a:\n",
    "    print(a.args)\n",
    "    "
   ]
  },
  {
   "cell_type": "code",
   "execution_count": 19,
   "metadata": {},
   "outputs": [
    {
     "name": "stdout",
     "output_type": "stream",
     "text": [
      "division by zero\n"
     ]
    }
   ],
   "source": [
    "try:\n",
    "    raise 1/0\n",
    "except Exception as a:                     # 3.X localizes 'as' names to except block\n",
    "    print(a)"
   ]
  },
  {
   "cell_type": "code",
   "execution_count": 22,
   "metadata": {},
   "outputs": [
    {
     "name": "stdout",
     "output_type": "stream",
     "text": [
      "division by zero\n"
     ]
    }
   ],
   "source": [
    "a=90\n",
    "try:\n",
    "    raise 1/0\n",
    "except Exception as a:                     # 3.X localizes _and_ removes on exit!\n",
    "    print(a)"
   ]
  },
  {
   "cell_type": "code",
   "execution_count": 23,
   "metadata": {},
   "outputs": [
    {
     "ename": "NameError",
     "evalue": "name 'a' is not defined",
     "output_type": "error",
     "traceback": [
      "\u001b[0;31m---------------------------------------------------------------------------\u001b[0m",
      "\u001b[0;31mNameError\u001b[0m                                 Traceback (most recent call last)",
      "\u001b[0;32m<ipython-input-23-3f786850e387>\u001b[0m in \u001b[0;36m<module>\u001b[0;34m\u001b[0m\n\u001b[0;32m----> 1\u001b[0;31m \u001b[0ma\u001b[0m\u001b[0;34m\u001b[0m\u001b[0;34m\u001b[0m\u001b[0m\n\u001b[0m",
      "\u001b[0;31mNameError\u001b[0m: name 'a' is not defined"
     ]
    }
   ],
   "source": [
    "a"
   ]
  },
  {
   "cell_type": "code",
   "execution_count": 39,
   "metadata": {},
   "outputs": [
    {
     "name": "stdout",
     "output_type": "stream",
     "text": [
      "division by zero\n"
     ]
    }
   ],
   "source": [
    "a=90\n",
    "try:\n",
    "    g=20\n",
    "    raise 1/0\n",
    "except Exception as a:                     # Python removes this reference\n",
    "    print(a)\n",
    "    s=a                                   # Assign exc to retain exc if needed\n",
    "   "
   ]
  },
  {
   "cell_type": "code",
   "execution_count": 38,
   "metadata": {},
   "outputs": [
    {
     "data": {
      "text/plain": [
       "10"
      ]
     },
     "execution_count": 38,
     "metadata": {},
     "output_type": "execute_result"
    }
   ],
   "source": [
    "g"
   ]
  },
  {
   "cell_type": "code",
   "execution_count": 26,
   "metadata": {},
   "outputs": [
    {
     "data": {
      "text/plain": [
       "ZeroDivisionError('division by zero')"
      ]
     },
     "execution_count": 26,
     "metadata": {},
     "output_type": "execute_result"
    }
   ],
   "source": [
    "s"
   ]
  },
  {
   "cell_type": "code",
   "execution_count": 32,
   "metadata": {},
   "outputs": [],
   "source": [
    "x=90\n",
    "def f():\n",
    "    t=x\n",
    "del x"
   ]
  },
  {
   "cell_type": "code",
   "execution_count": 34,
   "metadata": {},
   "outputs": [
    {
     "ename": "NameError",
     "evalue": "name 't' is not defined",
     "output_type": "error",
     "traceback": [
      "\u001b[0;31m---------------------------------------------------------------------------\u001b[0m",
      "\u001b[0;31mNameError\u001b[0m                                 Traceback (most recent call last)",
      "\u001b[0;32m<ipython-input-34-34fc7a11cb38>\u001b[0m in \u001b[0;36m<module>\u001b[0;34m\u001b[0m\n\u001b[0;32m----> 1\u001b[0;31m \u001b[0mt\u001b[0m\u001b[0;34m\u001b[0m\u001b[0;34m\u001b[0m\u001b[0m\n\u001b[0m",
      "\u001b[0;31mNameError\u001b[0m: name 't' is not defined"
     ]
    }
   ],
   "source": [
    "t"
   ]
  },
  {
   "cell_type": "markdown",
   "metadata": {},
   "source": [
    "##### try/Except do not create a new scope for variable declared inside it .\n",
    "##### variable declared inside try/except are accessible from anywhere like global variable"
   ]
  },
  {
   "cell_type": "code",
   "execution_count": null,
   "metadata": {},
   "outputs": [],
   "source": []
  },
  {
   "cell_type": "markdown",
   "metadata": {},
   "source": [
    "##### Python 3.X Exception Chaining: raise from"
   ]
  },
  {
   "cell_type": "raw",
   "metadata": {},
   "source": [
    "Exceptions can sometimes be triggered in response to other exceptions—both delib-\n",
    "erately and by new program errors. To support full disclosure in such cases, Python\n",
    "3.X (but not 2.X) also allows raise statements to have an optional from clause:\n",
    "    raise newexception from otherexception\n",
    "    \n",
    "When the from is used in an explicit raise request, the expression following from speci-\n",
    "fies another exception class or instance to attach to the __cause__ attribute of the new\n",
    "exception being raised. If the raised exception is not caught, Python prints both ex-\n",
    "ceptions as part of the standard error message:"
   ]
  },
  {
   "cell_type": "code",
   "execution_count": 46,
   "metadata": {},
   "outputs": [
    {
     "ename": "SyntaxError",
     "evalue": "None (<string>)",
     "output_type": "error",
     "traceback": [
      "Traceback \u001b[0;36m(most recent call last)\u001b[0m:\n",
      "  File \u001b[1;32m\"/home/icpl13698/anaconda3/lib/python3.7/site-packages/IPython/core/interactiveshell.py\"\u001b[0m, line \u001b[1;32m3296\u001b[0m, in \u001b[1;35mrun_code\u001b[0m\n    exec(code_obj, self.user_global_ns, self.user_ns)\n",
      "\u001b[0;36m  File \u001b[0;32m\"<ipython-input-46-5f93f00e7bba>\"\u001b[0;36m, line \u001b[0;32m8\u001b[0;36m, in \u001b[0;35m<module>\u001b[0;36m\u001b[0m\n\u001b[0;31m    raise SyntaxError() from E\u001b[0m\n",
      "\u001b[0;36m  File \u001b[0;32m\"<string>\"\u001b[0;36m, line \u001b[0;32munknown\u001b[0m\n\u001b[0;31mSyntaxError\u001b[0m\n"
     ]
    }
   ],
   "source": [
    "try:\n",
    "\n",
    "    try:\n",
    "        raise IndexError()\n",
    "    except Exception as E:\n",
    "        raise TypeError() from E\n",
    "except Exception as E:\n",
    "    raise SyntaxError() from E"
   ]
  },
  {
   "cell_type": "code",
   "execution_count": null,
   "metadata": {},
   "outputs": [],
   "source": []
  },
  {
   "cell_type": "markdown",
   "metadata": {},
   "source": [
    "##### The assert Statement"
   ]
  },
  {
   "cell_type": "raw",
   "metadata": {},
   "source": [
    "As a somewhat special case for debugging purposes, Python includes the assert state-\n",
    "ment. It is mostly just syntactic shorthand for a common raise usage pattern, and an\n",
    "assert can be thought of as a conditional raise statement. A statement of the form:\n",
    "    \n",
    "assert test, data                             # The data part is optional\n",
    "\n",
    "works like the following code:\n",
    "\n",
    "if __debug__:\n",
    "    if not test:\n",
    "        raise AssertionError(data)\n",
    "    \n",
    "In other words, if the test evaluates to false, Python raises an exception: the data item\n",
    "(if it’s provided) is used as the exception’s constructor argument. Like all exceptions,\n",
    "the AssertionError exception will kill your program if it’s not caught with a try , in\n",
    "which case the data item shows up as part of the standard error message.\n",
    "\n",
    "As an added feature, assert statements may be removed from a compiled program’s\n",
    "byte code if the -O Python command-line flag is used, thereby optimizing the program.\n",
    "AssertionError is a built-in exception, and the __debug__ flag is a built-in name that is\n",
    "automatically set to True unless the -O flag is used. Use a command line like python –O\n",
    "main.py to run in optimized mode and disable (and hence skip) asserts."
   ]
  },
  {
   "cell_type": "code",
   "execution_count": null,
   "metadata": {},
   "outputs": [],
   "source": []
  },
  {
   "cell_type": "code",
   "execution_count": null,
   "metadata": {},
   "outputs": [],
   "source": []
  },
  {
   "cell_type": "raw",
   "metadata": {},
   "source": [
    "for multiple contex manager we use comma,\n",
    "with expression1 as a,with expression2 as b:\n",
    "    pass\n",
    "\n",
    "example\n",
    "\n",
    "with open('script2.py') as fin, open('upper.py', 'w') as fout:\n",
    "\n",
    "    for line in fin:\n",
    "        fout.write(line.upper())"
   ]
  },
  {
   "cell_type": "code",
   "execution_count": null,
   "metadata": {},
   "outputs": [],
   "source": []
  }
 ],
 "metadata": {
  "kernelspec": {
   "display_name": "Python 3",
   "language": "python",
   "name": "python3"
  },
  "language_info": {
   "codemirror_mode": {
    "name": "ipython",
    "version": 3
   },
   "file_extension": ".py",
   "mimetype": "text/x-python",
   "name": "python",
   "nbconvert_exporter": "python",
   "pygments_lexer": "ipython3",
   "version": "3.7.3"
  }
 },
 "nbformat": 4,
 "nbformat_minor": 2
}
