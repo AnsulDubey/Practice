{
 "cells": [
  {
   "cell_type": "markdown",
   "metadata": {},
   "source": [
    "#### Common Operator Overloading Methods"
   ]
  },
  {
   "cell_type": "raw",
   "metadata": {},
   "source": [
    "Method             Implements Called for\n",
    "__init__           Constructor Object creation: X = Class(args)\n",
    "__del__             Destructor Object reclamation of X\n",
    "__add__            Operator + X + Y , X += Y if no __iadd__\n",
    "__or__             Operator | (bitwise OR) X | Y , X |= Y if no __ior__\n",
    "__repr__ , __str__  Printing, conversions print(X) , repr(X) , str(X)\n",
    "__call__            Function calls X(*args, **kargs)\n",
    "__getattr__         Attribute fetch X.undefined\n",
    "__setattr__         Attribute assignment X.any = value\n",
    "__delattr__         Attribute deletion del X.any\n",
    "__getattribute__   Attribute fetch X.any\n",
    "__getitem__        Indexing, slicing, iteration X[key] , X[i:j] , for loops and other iterations if no\n",
    "__iter__\n",
    "__setitem__        Index and slice assignment X[key] = value , X[i:j] = iterable\n",
    "__delitem__        Index and slice deletion del X[key] , del X[i:j]\n",
    "__len__            Length len(X) , truth tests if no __bool__\n",
    "__bool__           Boolean tests bool(X) , truth tests (named __nonzero__ in 2.X)\n",
    "__lt__ , __gt__ ,\n",
    "__le__ , __ge__ ,\n",
    "__eq__ , __ne__   Comparisons X < Y , X > Y , X <= Y , X >= Y , X == Y , X != Y\n",
    "(or else __cmp__ in 2.X only)\n",
    "__radd__ Right-side operators Other + X\n",
    "__iadd__ In-place augmented operators X += Y (or else __add__ )\n",
    "__iter__ , __next__ Iteration contexts I=iter(X) , next(I) ; for loops, in if no __con\n",
    "tains__ , all comprehensions, map(F,X) , others\n",
    "( __next__ is named next in 2.X)\n",
    "__contains__ Membership test item in X (any iterable)\n",
    "__index__ Integer value hex(X) , bin(X) , oct(X) , O[X] , O[X:] (replaces 2.X\n",
    "__oct__ , __hex__ )\n",
    "__enter__ , __exit__ Context manager (Chapter 34) with obj as var:\n",
    "__get__ , __set__ ,\n",
    "__delete__ Descriptor attributes (Chapter 38) X.attr, X.attr = value, del X.attr\n",
    "__new__ Creation (Chapter 40) Object creation, before __init__"
   ]
  },
  {
   "cell_type": "code",
   "execution_count": null,
   "metadata": {},
   "outputs": [],
   "source": []
  },
  {
   "cell_type": "raw",
   "metadata": {},
   "source": [
    "Test Your Knowledge: Quiz\n",
    "1. What two operator overloading methods can you use to support iteration in your\n",
    "classes?\n",
    "2. What two operator overloading methods handle printing, and in what contexts?\n",
    "3. How can you intercept slice operations in a class?\n",
    "4. How can you catch in-place addition in a class?\n",
    "5. When should you provide operator overloading?"
   ]
  },
  {
   "cell_type": "raw",
   "metadata": {},
   "source": [
    "Test Your Knowledge: Answers\n",
    "    \n",
    "1. Classes can support iteration by defining (or inheriting) __getitem__ or __iter__ .\n",
    "In all iteration contexts, Python tries to use __iter__ first, which returns an object\n",
    "that supports the iteration protocol with a __next__ method: if no __iter__ is found\n",
    "by inheritance search, Python falls back on the __getitem__ indexing method,\n",
    "which is called repeatedly, with successively higher indexes. If used, the yield\n",
    "statement can create the __next__ method automatically.\n",
    "\n",
    "2- The __str__ and __repr__ methods implement object print displays. The former is\n",
    "called by the print and str built-in functions; the latter is called by print and str\n",
    "if there is no __str__ , and always by the repr built-in, interactive echoes, and nested\n",
    "appearances. That is, __repr__ is used everywhere, except by print and str when\n",
    "a __str__ is defined. A __str__ is usually used for user-friendly displays;\n",
    "__repr__ gives extra details or the object’s as-code form.\n",
    "\n",
    "3. Slicing is caught by the __getitem__ indexing method: it is called with a slice object,\n",
    "instead of a simple integer index, and slice objects may be passed on or inspected\n",
    "as needed. In Python 2.X, __getslice__ (defunct in 3.X) may be used for two-limit\n",
    "slices as well.\n",
    "\n",
    "4.In-place addition tries __iadd__ first, and __add__ with an assignment second. The\n",
    "same pattern holds true for all binary operators. The __radd__ method is also avail-\n",
    "able for right-side addition.\n",
    "\n",
    "5.When a class naturally matches, or needs to emulate, a built-in type’s interfaces.\n",
    "For example, collections might imitate sequence or mapping interfaces, and call-\n",
    "ables might be coded for use with an API that expects a function. You generally\n",
    "shouldn’t implement expression operators if they don’t naturally map to your ob-\n",
    "jects naturally and logically, though—use normally named methods instead."
   ]
  },
  {
   "cell_type": "code",
   "execution_count": null,
   "metadata": {},
   "outputs": [],
   "source": []
  }
 ],
 "metadata": {
  "kernelspec": {
   "display_name": "Python 3",
   "language": "python",
   "name": "python3"
  },
  "language_info": {
   "codemirror_mode": {
    "name": "ipython",
    "version": 3
   },
   "file_extension": ".py",
   "mimetype": "text/x-python",
   "name": "python",
   "nbconvert_exporter": "python",
   "pygments_lexer": "ipython3",
   "version": "3.7.3"
  }
 },
 "nbformat": 4,
 "nbformat_minor": 2
}
