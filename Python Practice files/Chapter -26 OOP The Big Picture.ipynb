{
 "cells": [
  {
   "cell_type": "markdown",
   "metadata": {},
   "source": [
    "classes can define objects that respond to\n",
    "the sorts of operations we saw at work on built-in types. For instance, objects made\n",
    "with classes can be sliced, concatenated, indexed, and so on. Python provides\n",
    "hooks that classes can use to intercept and implement any built-in type operation"
   ]
  },
  {
   "cell_type": "raw",
   "metadata": {},
   "source": [
    "Coding Class Trees\n",
    "\n",
    "Although we are speaking in the abstract here, there is tangible code behind all these\n",
    "ideas, of course. We construct trees and their objects with class statements and class\n",
    "calls, which we’ll meet in more detail later. In short:\n",
    "\n",
    "-Each class statement generates a new class object.\n",
    "-Each time a class is called, it generates a new instance object.\n",
    "-Instances are automatically linked to the classes from which they are created.\n",
    "-Classes are automatically linked to their superclasses according to the way we list\n",
    "-them in parentheses in a class header line; the left-to-right order there gives the\n",
    "order in the tree."
   ]
  },
  {
   "cell_type": "markdown",
   "metadata": {},
   "source": [
    "In Python, if there is more than\n",
    "one superclass listed in parentheses in a class statement (like C1 ’s here), their left-to-\n",
    "right order gives the order in which those superclasses will be searched for attributes by inheritance"
   ]
  },
  {
   "cell_type": "markdown",
   "metadata": {},
   "source": [
    "\n",
    "The leftmost version of a name is used by default, though you can always\n",
    "choose a name by asking for it from the class it lives in (e.g., C3.z ).\n",
    "Because of the way inheritance searches proceed, the object to which you attach an\n",
    "attribute turns out to be crucial—it determines the name’s scope. Attributes attached\n",
    "to instances pertain only to those single instances, but attributes attached to classes are\n",
    "shared by all their subclasses and instances"
   ]
  },
  {
   "cell_type": "code",
   "execution_count": null,
   "metadata": {},
   "outputs": [],
   "source": []
  },
  {
   "cell_type": "markdown",
   "metadata": {},
   "source": [
    "The __init__ method is known as the constructor because of when it is run. It’s the\n",
    "most commonly used representative of a larger class of methods called operator over-\n",
    "loading methods, which we’ll discuss in more detail in the chapters that follow. Such\n",
    "methods are inherited in class trees as usual and have double underscores at the start\n",
    "and end of their names to make them distinct. Python runs them automatically when\n",
    "instances that support them appear in the corresponding operations, and they are\n",
    "mostly an alternative to using simple method calls. They’re also optional: if omitted,\n",
    "the operations are not supported. If no __init__ is present, class calls return an empty\n",
    "instance, without initializing it."
   ]
  },
  {
   "cell_type": "code",
   "execution_count": null,
   "metadata": {},
   "outputs": [],
   "source": []
  },
  {
   "cell_type": "code",
   "execution_count": null,
   "metadata": {},
   "outputs": [],
   "source": []
  }
 ],
 "metadata": {
  "kernelspec": {
   "display_name": "Python 3",
   "language": "python",
   "name": "python3"
  },
  "language_info": {
   "codemirror_mode": {
    "name": "ipython",
    "version": 3
   },
   "file_extension": ".py",
   "mimetype": "text/x-python",
   "name": "python",
   "nbconvert_exporter": "python",
   "pygments_lexer": "ipython3",
   "version": "3.7.3"
  }
 },
 "nbformat": 4,
 "nbformat_minor": 2
}
