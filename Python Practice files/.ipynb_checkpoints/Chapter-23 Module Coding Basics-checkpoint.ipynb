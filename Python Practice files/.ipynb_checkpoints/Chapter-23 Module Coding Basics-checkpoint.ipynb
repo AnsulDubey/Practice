{
 "cells": [
  {
   "cell_type": "raw",
   "metadata": {},
   "source": [
    "The from Statement\n",
    "By contrast, because from copies specific names from one file over to another scope, it\n",
    "allows us to use the copied names directly in the script without going through the\n",
    "module"
   ]
  },
  {
   "cell_type": "raw",
   "metadata": {},
   "source": [
    "from module1 import printer\n",
    "    printer('Hello world!')\n",
    "    Hello world!"
   ]
  },
  {
   "cell_type": "markdown",
   "metadata": {},
   "source": [
    "This form of from allows us to list one or more names to be copied out, separated by\n",
    "commas. Here, it has the same effect as the prior example, but because the imported\n",
    "name is copied into the scope where the from statement appears, using that name in\n",
    "the script requires less typing—we can use it directly instead of naming the enclosing\n",
    "module. In fact, we must; from doesn’t assign the name of the module itself."
   ]
  },
  {
   "cell_type": "markdown",
   "metadata": {},
   "source": [
    "\n",
    "As you’ll see in more detail later, the from statement is really just a minor extension to\n",
    "the import statement—it imports the module file as usual (running the full three-step\n",
    "procedure of the preceding chapter), but adds an extra step that copies one or more\n",
    "names (not objects) out of the file. The entire file is loaded, but you’re given names for\n",
    "more direct access to its parts."
   ]
  },
  {
   "cell_type": "code",
   "execution_count": null,
   "metadata": {},
   "outputs": [],
   "source": []
  },
  {
   "cell_type": "markdown",
   "metadata": {},
   "source": [
    "##### The from * Statement"
   ]
  },
  {
   "cell_type": "markdown",
   "metadata": {},
   "source": [
    "Finally, the next example uses a special form of from : when we use a * instead of specific\n",
    "names, we get copies of all names assigned at the top level of the referenced module.\n",
    "Here again, we can then use the copied name printer in our script without going\n",
    "through the module name:"
   ]
  },
  {
   "cell_type": "raw",
   "metadata": {},
   "source": [
    "from module1 import *          # Copy out _all_ variables\n",
    "    printer('Hello world!')"
   ]
  },
  {
   "cell_type": "code",
   "execution_count": null,
   "metadata": {},
   "outputs": [],
   "source": []
  },
  {
   "cell_type": "markdown",
   "metadata": {},
   "source": [
    "##### Changing mutables in modules"
   ]
  },
  {
   "cell_type": "markdown",
   "metadata": {},
   "source": [
    "Also, like def , the import and from are implicit assignments:\n",
    "• import assigns an entire module object to a single name.\n",
    "• from assigns one or more names to objects of the same names in another module.\n",
    "All the things we’ve already discussed about assignment apply to module access, too.\n",
    "For instance, names copied with a from become references to shared objects; as with\n",
    "function arguments, reassigning a copied name has no effect on the module from which\n",
    "it was copied, but changing a shared mutable object through a copied name can also\n",
    "change it in the module from which it was imported. To illustrate, consider the fol-\n",
    "lowing file, small.py:"
   ]
  },
  {
   "cell_type": "markdown",
   "metadata": {},
   "source": [
    "x = 1\n",
    "\n",
    "y = [1, 2]\n",
    "\n",
    "When importing with from , we copy names to the importer’s scope that initially share\n",
    "objects referenced by the module’s names:"
   ]
  },
  {
   "cell_type": "raw",
   "metadata": {},
   "source": [
    "\n",
    "from small import x, y                       # Copy two names out\n",
    "x = 42                                       # Changes local x only\n",
    "y[0] = 42                                    # Changes shared mutable in place"
   ]
  },
  {
   "cell_type": "markdown",
   "metadata": {},
   "source": [
    "Here, x is not a shared mutable object, but y is. The names y in the importer and the\n",
    "importee both reference the same list object, so changing it from one place changes it\n",
    "in the other:"
   ]
  },
  {
   "cell_type": "code",
   "execution_count": null,
   "metadata": {},
   "outputs": [],
   "source": []
  },
  {
   "cell_type": "markdown",
   "metadata": {},
   "source": [
    "#### import and from Equivalence"
   ]
  },
  {
   "cell_type": "markdown",
   "metadata": {},
   "source": [
    "Notice in the prior example that we have to execute an import statement after the\n",
    "from to access the small module name at all. from only copies names from one module\n",
    "to another; it does not assign the module name itself. At least conceptually, a from\n",
    "statement like this one:\n"
   ]
  },
  {
   "cell_type": "raw",
   "metadata": {},
   "source": [
    "from module import name1, name2                # Copy these two names out (only)\n",
    "\n",
    "is equivalent to this statement sequence:\n",
    "    \n",
    "import module                                 # Fetch the module object\n",
    "name1 = module.name1                          # Copy names out by assignment\n",
    "name2 = module.name2\n",
    "del module                                     # Get rid of the module name\n"
   ]
  },
  {
   "cell_type": "markdown",
   "metadata": {},
   "source": [
    "Like all assignments, the from statement creates new variables in the importer, which\n",
    "initially refer to objects of the same names in the imported file. Only the names are\n",
    "copied out, though, not the objects they reference, and not the name of the module\n",
    "itself. When we use the from * form of this statement ( from module import * ), the\n",
    "equivalence is the same, but all the top-level names in the module are copied over to\n",
    "the importing scope this way."
   ]
  },
  {
   "cell_type": "code",
   "execution_count": null,
   "metadata": {},
   "outputs": [],
   "source": []
  },
  {
   "cell_type": "markdown",
   "metadata": {},
   "source": [
    "##### When import is required"
   ]
  },
  {
   "cell_type": "markdown",
   "metadata": {},
   "source": [
    "The only time you really must use import instead of from is when you must use the same\n",
    "name defined in two different modules. For example, if two files define the same name\n",
    "differently\n"
   ]
  },
  {
   "cell_type": "raw",
   "metadata": {},
   "source": [
    "# M.py\n",
    "def func():\n",
    "...do something...\n",
    "\n",
    "# N.py\n",
    "def func():\n",
    "...do something else..."
   ]
  },
  {
   "cell_type": "markdown",
   "metadata": {},
   "source": [
    "and you must use both versions of the name in your program, the from statement will\n",
    "fail—you can have only one assignment to the name in your scope:"
   ]
  },
  {
   "cell_type": "raw",
   "metadata": {},
   "source": [
    "# O.py\n",
    "from M import func\n",
    "from N import func                            # This overwrites the one we fetched from M\n",
    "func()                                       # Calls N.func only!"
   ]
  },
  {
   "cell_type": "code",
   "execution_count": null,
   "metadata": {},
   "outputs": [],
   "source": []
  },
  {
   "cell_type": "raw",
   "metadata": {},
   "source": [
    "An import will work here, though, because including the name of the enclosing module\n",
    "makes the two names unique:\n",
    "# O.py\n",
    "import M, N\n",
    "M.func()\n",
    "N.func()"
   ]
  },
  {
   "cell_type": "markdown",
   "metadata": {},
   "source": [
    "This case is unusual enough that you’re unlikely to encounter it very often in practice.\n",
    "If you do, though, import allows you to avoid the name collision. Another way out of\n",
    "this dilemma is using the as extension, which we’ll cover in Chapter 25 but is simple\n",
    "enough to introduce here:"
   ]
  },
  {
   "cell_type": "raw",
   "metadata": {},
   "source": [
    "# O.py\n",
    "from M import func as mfunc                 # Rename uniquely with \"as\"\n",
    "from N import func as nfunc\n",
    "mfunc(); nfunc()                           # Calls one or the other"
   ]
  },
  {
   "cell_type": "code",
   "execution_count": null,
   "metadata": {},
   "outputs": [],
   "source": []
  },
  {
   "cell_type": "markdown",
   "metadata": {},
   "source": [
    "#### Namespace Dictionaries: __dict__"
   ]
  },
  {
   "cell_type": "raw",
   "metadata": {},
   "source": [
    "In fact, internally, module namespaces are stored as dictionary objects. These are just\n",
    "normal dictionaries with all the usual methods. When needed—for instance, to write\n",
    "tools that list module content generically as we will in Chapter 25—we can access a\n",
    "module’s namespace dictionary through the module’s __dict__ attribute. Continuing\n",
    "the prior section’s example (remember to wrap this in a list call in Python 3.X—it’s a\n",
    "view object there, and contents may vary outside 3.3 used here):\n",
    " list(module2.__dict__.keys())\n",
    "['__loader__', 'func', 'klass', '__builtins__', '__doc__', '__file__', '__name__',\n",
    "'name', '__package__', 'sys', '__initializing__', '__cached__']"
   ]
  },
  {
   "cell_type": "raw",
   "metadata": {},
   "source": [
    "• Functions can never see names in other functions, unless they are physically en-\n",
    "closing.\n",
    "• Module code can never see names in other modules, unless they are explicitly im-\n",
    "ported."
   ]
  },
  {
   "cell_type": "code",
   "execution_count": null,
   "metadata": {},
   "outputs": [],
   "source": []
  },
  {
   "cell_type": "raw",
   "metadata": {},
   "source": [
    "Reloading Modules\n",
    "As we’ve seen, a module’s code is run only once per process by default. To force a\n",
    "module’s code to be reloaded and rerun, you need to ask Python to do so explicitly by\n",
    "calling the reload built-in function. In this section, we’ll explore how to use reloads to\n",
    "make your systems more dynamic. In a nutshell:\n",
    "• Imports (via both import and from statements) load and run a module’s code only\n",
    "the first time the module is imported in a process.\n",
    "• Later imports use the already loaded module object without reloading or rerunning\n",
    "the file’s code.\n",
    "• The reload function forces an already loaded module’s code to be reloaded and\n",
    "rerun. Assignments in the file’s new code change the existing module object in\n",
    "place"
   ]
  },
  {
   "cell_type": "raw",
   "metadata": {},
   "source": [
    "reload Basics\n",
    "Unlike import and from :\n",
    "• reload is a function in Python, not a statement.\n",
    "• reload is passed an existing module object, not a new name.\n",
    "• reload lives in a module in Python 3.X and must be imported itsel"
   ]
  },
  {
   "cell_type": "code",
   "execution_count": null,
   "metadata": {},
   "outputs": [],
   "source": []
  },
  {
   "cell_type": "code",
   "execution_count": null,
   "metadata": {},
   "outputs": [],
   "source": []
  }
 ],
 "metadata": {
  "kernelspec": {
   "display_name": "Python 3",
   "language": "python",
   "name": "python3"
  },
  "language_info": {
   "codemirror_mode": {
    "name": "ipython",
    "version": 3
   },
   "file_extension": ".py",
   "mimetype": "text/x-python",
   "name": "python",
   "nbconvert_exporter": "python",
   "pygments_lexer": "ipython3",
   "version": "3.7.3"
  }
 },
 "nbformat": 4,
 "nbformat_minor": 2
}
