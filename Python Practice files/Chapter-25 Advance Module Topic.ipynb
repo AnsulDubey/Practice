{
 "cells": [
  {
   "cell_type": "raw",
   "metadata": {},
   "source": [
    "• You’re always in a module in Python. There’s no way to write code that doesn’t\n",
    "live in some module. As mentioned briefly in Chapter 17 and Chapter 21, even\n",
    "code typed at the interactive prompt really goes in a built-in module called\n",
    "__main__ ; the only unique things about the interactive prompt are that code runs\n",
    "and is discarded immediately, and expression results are printed automatically"
   ]
  },
  {
   "cell_type": "markdown",
   "metadata": {},
   "source": [
    "#### Data Hiding in Modules"
   ]
  },
  {
   "cell_type": "markdown",
   "metadata": {},
   "source": [
    "###### Minimizing from * Damage: _X and __all__"
   ]
  },
  {
   "cell_type": "markdown",
   "metadata": {},
   "source": [
    "As a special case, you can prefix names with a single underscore (e.g., _X ) to prevent\n",
    "them from being copied out when a client imports a module’s names with a from *\n",
    "statement. This really is intended only to minimize namespace pollution; because from\n",
    "* copies out all names, the importer may get more than it’s bargained for (including\n",
    "names that overwrite names in the importer). Underscores aren’t “private” declara-\n",
    "tions: you can still see and change such names with other import forms, such as the\n",
    "import statement:"
   ]
  },
  {
   "cell_type": "raw",
   "metadata": {},
   "source": [
    "# unders.py\n",
    "a, _b, c, _d = 1, 2, 3, 4"
   ]
  },
  {
   "cell_type": "raw",
   "metadata": {},
   "source": [
    ">>> from unders import *                         # Load non _X names only\n",
    ">>> a, c\n",
    "(1, 3)"
   ]
  },
  {
   "cell_type": "raw",
   "metadata": {},
   "source": [
    ">>> _b\n",
    "NameError: name '_b' is not defined"
   ]
  },
  {
   "cell_type": "raw",
   "metadata": {},
   "source": [
    ">>> import unders                           # But other importers get every name\n",
    ">>> unders._b\n",
    "2"
   ]
  },
  {
   "cell_type": "raw",
   "metadata": {},
   "source": [
    "Alternatively, you can achieve a hiding effect similar to the _X naming convention by\n",
    "assigning a list of variable name strings to the variable __all__ at the top level of the\n",
    "module. When this feature is used, the from * statement will copy out only those names\n",
    "listed in the __all__ list. In effect, this is the converse of the _X convention: __all__\n",
    "identifies names to be copied, while _X identifies names not to be copied. Python looks\n",
    "for an __all__ list in the module first and copies its names irrespective of any under-\n",
    "scores; if __all__ is not defined, from * copies all names without a single leading un-\n",
    "derscore:"
   ]
  },
  {
   "cell_type": "raw",
   "metadata": {},
   "source": [
    "# alls.py\n",
    "__all__ = ['a', '_c']                       # __all__ has precedence over _X"
   ]
  },
  {
   "cell_type": "raw",
   "metadata": {},
   "source": [
    "a, b, _c, _d = 1, 2, 3, 4\n",
    "\n",
    ">>> from alls import *                        # Load __all__ names only\n",
    ">>> a, _c\n",
    "(1, 3)\n",
    "\n",
    ">>> b\n",
    "NameError: name 'b' is not defined \n",
    "\n",
    "\n",
    ">>> from alls import a, b, _c, _d              # But other importers get every name\n",
    ">>> a, b, _c, _d\n",
    "(1, 2, 3, 4) \n",
    "\n",
    ">>> import alls\n",
    ">>> alls.a, alls.b, alls._c, alls._d\n",
    "(1, 2, 3, 4)"
   ]
  },
  {
   "cell_type": "markdown",
   "metadata": {},
   "source": [
    "Like the _X convention, the __all__ list has meaning only to the from * statement form\n",
    "and does not amount to a privacy declaration: other import statements can still access\n",
    "all names, as the last two tests show. Still, module writers can use either technique to\n",
    "implement modules that are well behaved when used with from * . See also the discus-\n",
    "sion of __all__ lists in package __init__.py files in Chapter 24; there, these lists declare\n",
    "submodules to be automatically loaded for a from * on their container."
   ]
  },
  {
   "cell_type": "code",
   "execution_count": null,
   "metadata": {},
   "outputs": [],
   "source": []
  },
  {
   "cell_type": "markdown",
   "metadata": {},
   "source": [
    "##### Enabling Future Language Features: __future__"
   ]
  },
  {
   "cell_type": "raw",
   "metadata": {},
   "source": [
    "Changes to the language that may potentially break existing code are usually introduced\n",
    "gradually in Python. They often initially appear as optional extensions, which are dis-\n",
    "abled by default. To turn on such extensions, use a special import statement of this form:\n",
    "from __future__ import featurename\n",
    "When used in a script, this statement must appear as the first executable statement in\n",
    "the file (possibly following a docstring or comment), because it enables special com-\n",
    "pilation of code on a per-module basis. It’s also possible to submit this statement at the\n",
    "interactive prompt to experiment with upcoming language changes; the feature will\n",
    "then be available for the remainder of the interactive session."
   ]
  },
  {
   "cell_type": "raw",
   "metadata": {},
   "source": [
    "For a list of futurisms you may import and turn on this way, run a dir call on the\n",
    "__future__ module after importing it, or see its library manual entry. Per its documentation\n",
    "none of its feature names will ever be removed, so it’s safe to leave in a\n",
    "__future__ import even in code run by a version of Python where the feature is present\n",
    "normally."
   ]
  },
  {
   "cell_type": "code",
   "execution_count": null,
   "metadata": {},
   "outputs": [],
   "source": []
  },
  {
   "cell_type": "raw",
   "metadata": {},
   "source": [
    "For a list of futurisms you may import and turn on this way, run a dir call on the\n",
    "__future__ module after importing it, or see its library manual entry. Per its documen-\n",
    "748 | Chapter 25: Advanced Module Topicstation, none of its feature names will ever be removed, so it’s safe to leave in a\n",
    "__future__ import even in code run by a version of Python where the feature is present\n",
    "normally."
   ]
  },
  {
   "cell_type": "code",
   "execution_count": null,
   "metadata": {},
   "outputs": [],
   "source": []
  },
  {
   "cell_type": "markdown",
   "metadata": {},
   "source": [
    "##### Mixed Usage Modes: __name__ and __main__"
   ]
  },
  {
   "cell_type": "raw",
   "metadata": {},
   "source": [
    "Our next module-related trick lets you both import a file as a module and run it as a\n",
    "standalone program, and is widely used in Python files. It’s actually so simple that some\n",
    "miss the point at first: each module has a built-in attribute called __name__ , which\n",
    "Python creates and assigns automatically as follows:\n",
    "• If the file is being run as a top-level program file, __name__ is set to the string\n",
    "\"__main__\" when it starts.\n",
    "• If the file is being imported instead, __name__ is set to the module’s name as known\n",
    "by its clients.\n",
    "The upshot is that a module can test its own __name__ to determine whether it’s being\n",
    "run or imported. For example, suppose we create the following module file, named\n",
    "runme.py, to export a single function called tester :"
   ]
  },
  {
   "cell_type": "raw",
   "metadata": {},
   "source": [
    "def tester():\n",
    "    print(\"It's Christmas in Heaven...\")\n",
    "    \n",
    "if __name__ == '__main__':                 # Only when run\n",
    "tester()                                   # Not when imported\n",
    "\n",
    "This module defines a function for clients to import and use as usual\n",
    "\n",
    "c:\\code> python\n",
    ">>> import runme\n",
    ">>> runme.tester()\n",
    "It's Christmas in Heaven..."
   ]
  },
  {
   "cell_type": "code",
   "execution_count": null,
   "metadata": {},
   "outputs": [],
   "source": []
  },
  {
   "cell_type": "markdown",
   "metadata": {},
   "source": [
    "##### Unit Tests with __name__"
   ]
  },
  {
   "cell_type": "raw",
   "metadata": {},
   "source": [
    "In fact, we’ve already seen a prime example in this book of an instance where the\n",
    "__name__ check could be useful. In the section on arguments in Chapter 18, we coded\n",
    "a script that computed the minimum value from the set of arguments sent in (this was\n",
    "the file minmax.py in “The min Wakeup Call!”):\n",
    "    \n",
    "def minmax(test, *args):\n",
    "    res = args[0]\n",
    "    for arg in args[1:]:\n",
    "        if test(arg, res):\n",
    "            res = arg\n",
    "    return res\n",
    "\n",
    "def lessthan(x, y): return x < y\n",
    "def grtrthan(x, y): return x > y\n",
    "\n",
    "print(minmax(lessthan, 4, 2, 1, 5, 6, 3))\n",
    "print(minmax(grtrthan, 4, 2, 1, 5, 6, 3))"
   ]
  },
  {
   "cell_type": "raw",
   "metadata": {},
   "source": [
    "if __name__ == '__main__':\n",
    "print(minmax(lessthan, 4, 2, 1, 5, 6, 3))\n",
    "print(minmax(grtrthan, 4, 2, 1, 5, 6, 3))"
   ]
  },
  {
   "cell_type": "code",
   "execution_count": null,
   "metadata": {},
   "outputs": [],
   "source": []
  },
  {
   "cell_type": "raw",
   "metadata": {},
   "source": [
    "Running Code Strings\n",
    "\n",
    "To get around this, you need to use special tools to load a module dynamically from a\n",
    "string that is generated at runtime. The most general approach is to construct an\n",
    "import statement as a string of Python code and pass it to the exec built-in function to\n",
    "run ( exec is a statement in Python 2.X, but it can be used exactly as shown here—the\n",
    "parentheses are simply ignored):\n",
    "    \n",
    ">>> modname = 'string'\n",
    ">>> exec('import ' + modname)                   # Run a string of cod\n",
    "\n",
    ">>> string                                     # Imported in this namespace\n",
    "\n",
    "<module 'string' from 'C:\\\\Python33\\\\lib\\\\string.py'>"
   ]
  },
  {
   "cell_type": "raw",
   "metadata": {},
   "source": [
    "Direct Calls: Two Options\n",
    "    \n",
    "The only real drawback to exec here is that it must compile the import statement each\n",
    "time it runs, and compiling can be slow. Precompiling to byte code with the compile\n",
    "built-in may help for code strings run many times, but in most cases it’s probably\n",
    "simpler and may run quicker to use the built-in __import__ function to load from a\n",
    "name string instead, as noted in Chapter 22. The effect is similar, but __import__ returns\n",
    "the module object, so assign it to a name here to keep it:\n",
    ">>> modname = 'string'\n",
    ">>> string = __import__(modname)\n",
    ">>> string\n",
    "<module 'string' from 'C:\\\\Python33\\\\lib\\\\string.py'>\n",
    "\n",
    "As also noted in Chapter 22, the newer call importlib.import_module does the same\n",
    "work, and is generally preferred in more recent Pythons for direct calls to import by\n",
    "name string—at least per the current “official” policy stated in Python’s manuals:\n",
    ">>> import importlib\n",
    ">>> modname = 'string'\n",
    ">>> string = importlib.import_module(modname)\n",
    ">>> string\n",
    "<module 'string' from 'C:\\\\Python33\\\\lib\\\\string.py'>"
   ]
  },
  {
   "cell_type": "code",
   "execution_count": null,
   "metadata": {},
   "outputs": [],
   "source": []
  },
  {
   "cell_type": "raw",
   "metadata": {},
   "source": [
    "Test Your Knowledge: Quiz\n",
    "    \n",
    "1. What is significant about variables at the top level of a module whose names begin\n",
    "with a single underscore?\n",
    "\n",
    "2. What does it mean when a module’s __name__ variable is the string \"__main__\" ?\n",
    "\n",
    "3. If the user interactively types the name of a module to test, how can your code\n",
    "import it?\n",
    "\n",
    "4. How is changing sys.path different from setting PYTHONPATH to modify the module\n",
    "search path?\n",
    "\n",
    "5. If the module __future__ allows us to import from the future, can we also import\n",
    "from the past?\n",
    "\n",
    "Test Your Knowledge: Answers\n",
    "    \n",
    "1. Variables at the top level of a module whose names begin with a single underscore\n",
    "are not copied out to the importing scope when the from * statement form is used.\n",
    "They can still be accessed by an import or the normal from statement form, though.\n",
    "The __all__ list is similar, but the logical converse; its contents are the only names\n",
    "that are copied out on a from * .\n",
    "\n",
    "2. If a module’s __name__ variable is the string \"__main__\" , it means that the file is\n",
    "being executed as a top-level script instead of being imported from another file in\n",
    "the program. That is, the file is being used as a program, not a library. This usage\n",
    "mode variable supports dual-mode code and tests.\n",
    "\n",
    "3. User input usually comes into a script as a string; to import the referenced module\n",
    "given its string name, you can build and run an import statement with exec , or pass\n",
    "the string name in a call to the __import__ or importlib.import_module .\n",
    "\n",
    "4. Changing sys.path only affects one running program (process), and is temporary\n",
    "—the change goes away when the program ends. PYTHONPATH settings live in the\n",
    "operating system—they are picked up globally by all your programs on a machine,\n",
    "and changes to these settings endure after programs exit.\n",
    "\n",
    "5. No, we can’t import from the past in Python. We can install (or stubbornly use)\n",
    "an older version of the language, but the latest Python is generally the best Python\n",
    "(at least within lines—see 2.X longevity!)."
   ]
  },
  {
   "cell_type": "code",
   "execution_count": null,
   "metadata": {},
   "outputs": [],
   "source": []
  }
 ],
 "metadata": {
  "kernelspec": {
   "display_name": "Python 3",
   "language": "python",
   "name": "python3"
  },
  "language_info": {
   "codemirror_mode": {
    "name": "ipython",
    "version": 3
   },
   "file_extension": ".py",
   "mimetype": "text/x-python",
   "name": "python",
   "nbconvert_exporter": "python",
   "pygments_lexer": "ipython3",
   "version": "3.7.3"
  }
 },
 "nbformat": 4,
 "nbformat_minor": 2
}
